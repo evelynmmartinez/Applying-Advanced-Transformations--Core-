{
 "cells": [
  {
   "cell_type": "code",
   "execution_count": 1,
   "id": "8241de2f",
   "metadata": {},
   "outputs": [],
   "source": [
    "## Standard Imports\n",
    "import numpy as np\n",
    "import pandas as pd\n",
    "import matplotlib.pyplot as plt\n",
    "import seaborn as sns\n",
    "## Importing the OS and JSON Modules\n",
    "import os,json"
   ]
  },
  {
   "cell_type": "code",
   "execution_count": 2,
   "id": "e027cba9",
   "metadata": {},
   "outputs": [
    {
     "data": {
      "text/plain": [
       "['superhero_info - superhero_info.csv',\n",
       " 'superhero_powers - superhero_powers.csv']"
      ]
     },
     "execution_count": 2,
     "metadata": {},
     "output_type": "execute_result"
    }
   ],
   "source": [
    "import os\n",
    "os.makedirs('Data/',exist_ok=True) \n",
    "os.listdir(\"Data/\")"
   ]
  },
  {
   "cell_type": "code",
   "execution_count": 3,
   "id": "ceeddbf8",
   "metadata": {},
   "outputs": [
    {
     "data": {
      "text/html": [
       "<div>\n",
       "<style scoped>\n",
       "    .dataframe tbody tr th:only-of-type {\n",
       "        vertical-align: middle;\n",
       "    }\n",
       "\n",
       "    .dataframe tbody tr th {\n",
       "        vertical-align: top;\n",
       "    }\n",
       "\n",
       "    .dataframe thead th {\n",
       "        text-align: right;\n",
       "    }\n",
       "</style>\n",
       "<table border=\"1\" class=\"dataframe\">\n",
       "  <thead>\n",
       "    <tr style=\"text-align: right;\">\n",
       "      <th></th>\n",
       "      <th>Hero|Publisher</th>\n",
       "      <th>Gender</th>\n",
       "      <th>Race</th>\n",
       "      <th>Alignment</th>\n",
       "      <th>Hair color</th>\n",
       "      <th>Eye color</th>\n",
       "      <th>Skin color</th>\n",
       "      <th>Measurements</th>\n",
       "    </tr>\n",
       "  </thead>\n",
       "  <tbody>\n",
       "    <tr>\n",
       "      <th>0</th>\n",
       "      <td>A-Bomb|Marvel Comics</td>\n",
       "      <td>Male</td>\n",
       "      <td>Human</td>\n",
       "      <td>good</td>\n",
       "      <td>No Hair</td>\n",
       "      <td>yellow</td>\n",
       "      <td>Unknown</td>\n",
       "      <td>{'Height': '203.0 cm', 'Weight': '441.0 kg'}</td>\n",
       "    </tr>\n",
       "    <tr>\n",
       "      <th>1</th>\n",
       "      <td>Abe Sapien|Dark Horse Comics</td>\n",
       "      <td>Male</td>\n",
       "      <td>Icthyo Sapien</td>\n",
       "      <td>good</td>\n",
       "      <td>No Hair</td>\n",
       "      <td>blue</td>\n",
       "      <td>blue</td>\n",
       "      <td>{'Height': '191.0 cm', 'Weight': '65.0 kg'}</td>\n",
       "    </tr>\n",
       "    <tr>\n",
       "      <th>2</th>\n",
       "      <td>Abin Sur|DC Comics</td>\n",
       "      <td>Male</td>\n",
       "      <td>Ungaran</td>\n",
       "      <td>good</td>\n",
       "      <td>No Hair</td>\n",
       "      <td>blue</td>\n",
       "      <td>red</td>\n",
       "      <td>{'Height': '185.0 cm', 'Weight': '90.0 kg'}</td>\n",
       "    </tr>\n",
       "    <tr>\n",
       "      <th>3</th>\n",
       "      <td>Abomination|Marvel Comics</td>\n",
       "      <td>Male</td>\n",
       "      <td>Human / Radiation</td>\n",
       "      <td>bad</td>\n",
       "      <td>No Hair</td>\n",
       "      <td>green</td>\n",
       "      <td>Unknown</td>\n",
       "      <td>{'Height': '203.0 cm', 'Weight': '441.0 kg'}</td>\n",
       "    </tr>\n",
       "    <tr>\n",
       "      <th>4</th>\n",
       "      <td>Absorbing Man|Marvel Comics</td>\n",
       "      <td>Male</td>\n",
       "      <td>Human</td>\n",
       "      <td>bad</td>\n",
       "      <td>No Hair</td>\n",
       "      <td>blue</td>\n",
       "      <td>Unknown</td>\n",
       "      <td>{'Height': '193.0 cm', 'Weight': '122.0 kg'}</td>\n",
       "    </tr>\n",
       "  </tbody>\n",
       "</table>\n",
       "</div>"
      ],
      "text/plain": [
       "                 Hero|Publisher Gender               Race Alignment  \\\n",
       "0          A-Bomb|Marvel Comics   Male              Human      good   \n",
       "1  Abe Sapien|Dark Horse Comics   Male      Icthyo Sapien      good   \n",
       "2            Abin Sur|DC Comics   Male            Ungaran      good   \n",
       "3     Abomination|Marvel Comics   Male  Human / Radiation       bad   \n",
       "4   Absorbing Man|Marvel Comics   Male              Human       bad   \n",
       "\n",
       "  Hair color Eye color Skin color  \\\n",
       "0    No Hair    yellow    Unknown   \n",
       "1    No Hair      blue       blue   \n",
       "2    No Hair      blue        red   \n",
       "3    No Hair     green    Unknown   \n",
       "4    No Hair      blue    Unknown   \n",
       "\n",
       "                                   Measurements  \n",
       "0  {'Height': '203.0 cm', 'Weight': '441.0 kg'}  \n",
       "1   {'Height': '191.0 cm', 'Weight': '65.0 kg'}  \n",
       "2   {'Height': '185.0 cm', 'Weight': '90.0 kg'}  \n",
       "3  {'Height': '203.0 cm', 'Weight': '441.0 kg'}  \n",
       "4  {'Height': '193.0 cm', 'Weight': '122.0 kg'}  "
      ]
     },
     "execution_count": 3,
     "metadata": {},
     "output_type": "execute_result"
    }
   ],
   "source": [
    "superhero_info = pd.read_csv('Data/superhero_info - superhero_info.csv')\n",
    "superhero_info.head()"
   ]
  },
  {
   "cell_type": "code",
   "execution_count": 4,
   "id": "1aecf832",
   "metadata": {},
   "outputs": [
    {
     "data": {
      "text/html": [
       "<div>\n",
       "<style scoped>\n",
       "    .dataframe tbody tr th:only-of-type {\n",
       "        vertical-align: middle;\n",
       "    }\n",
       "\n",
       "    .dataframe tbody tr th {\n",
       "        vertical-align: top;\n",
       "    }\n",
       "\n",
       "    .dataframe thead th {\n",
       "        text-align: right;\n",
       "    }\n",
       "</style>\n",
       "<table border=\"1\" class=\"dataframe\">\n",
       "  <thead>\n",
       "    <tr style=\"text-align: right;\">\n",
       "      <th></th>\n",
       "      <th>hero_names</th>\n",
       "      <th>Powers</th>\n",
       "    </tr>\n",
       "  </thead>\n",
       "  <tbody>\n",
       "    <tr>\n",
       "      <th>0</th>\n",
       "      <td>3-D Man</td>\n",
       "      <td>Agility,Super Strength,Stamina,Super Speed</td>\n",
       "    </tr>\n",
       "    <tr>\n",
       "      <th>1</th>\n",
       "      <td>A-Bomb</td>\n",
       "      <td>Accelerated Healing,Durability,Longevity,Super...</td>\n",
       "    </tr>\n",
       "    <tr>\n",
       "      <th>2</th>\n",
       "      <td>Abe Sapien</td>\n",
       "      <td>Agility,Accelerated Healing,Cold Resistance,Du...</td>\n",
       "    </tr>\n",
       "    <tr>\n",
       "      <th>3</th>\n",
       "      <td>Abin Sur</td>\n",
       "      <td>Lantern Power Ring</td>\n",
       "    </tr>\n",
       "    <tr>\n",
       "      <th>4</th>\n",
       "      <td>Abomination</td>\n",
       "      <td>Accelerated Healing,Intelligence,Super Strengt...</td>\n",
       "    </tr>\n",
       "  </tbody>\n",
       "</table>\n",
       "</div>"
      ],
      "text/plain": [
       "    hero_names                                             Powers\n",
       "0      3-D Man         Agility,Super Strength,Stamina,Super Speed\n",
       "1       A-Bomb  Accelerated Healing,Durability,Longevity,Super...\n",
       "2   Abe Sapien  Agility,Accelerated Healing,Cold Resistance,Du...\n",
       "3     Abin Sur                                 Lantern Power Ring\n",
       "4  Abomination  Accelerated Healing,Intelligence,Super Strengt..."
      ]
     },
     "execution_count": 4,
     "metadata": {},
     "output_type": "execute_result"
    }
   ],
   "source": [
    "superhero_powers = pd.read_csv('Data/superhero_powers - superhero_powers.csv')\n",
    "superhero_powers.head()"
   ]
  },
  {
   "cell_type": "code",
   "execution_count": 5,
   "id": "e3d062dc",
   "metadata": {},
   "outputs": [
    {
     "name": "stdout",
     "output_type": "stream",
     "text": [
      "<class 'pandas.core.frame.DataFrame'>\n",
      "RangeIndex: 463 entries, 0 to 462\n",
      "Data columns (total 8 columns):\n",
      " #   Column          Non-Null Count  Dtype \n",
      "---  ------          --------------  ----- \n",
      " 0   Hero|Publisher  463 non-null    object\n",
      " 1   Gender          463 non-null    object\n",
      " 2   Race            463 non-null    object\n",
      " 3   Alignment       463 non-null    object\n",
      " 4   Hair color      463 non-null    object\n",
      " 5   Eye color       463 non-null    object\n",
      " 6   Skin color      463 non-null    object\n",
      " 7   Measurements    463 non-null    object\n",
      "dtypes: object(8)\n",
      "memory usage: 29.1+ KB\n"
     ]
    }
   ],
   "source": [
    "superhero_info.info()"
   ]
  },
  {
   "cell_type": "code",
   "execution_count": 6,
   "id": "b6ed7dd7",
   "metadata": {},
   "outputs": [
    {
     "name": "stdout",
     "output_type": "stream",
     "text": [
      "<class 'pandas.core.frame.DataFrame'>\n",
      "RangeIndex: 667 entries, 0 to 666\n",
      "Data columns (total 2 columns):\n",
      " #   Column      Non-Null Count  Dtype \n",
      "---  ------      --------------  ----- \n",
      " 0   hero_names  667 non-null    object\n",
      " 1   Powers      667 non-null    object\n",
      "dtypes: object(2)\n",
      "memory usage: 10.5+ KB\n"
     ]
    }
   ],
   "source": [
    "superhero_powers.info()"
   ]
  },
  {
   "cell_type": "code",
   "execution_count": 7,
   "id": "70e3b355",
   "metadata": {},
   "outputs": [
    {
     "data": {
      "text/plain": [
       "Spider-Man|Marvel Comics       3\n",
       "Black Canary|DC Comics         2\n",
       "Nova|Marvel Comics             2\n",
       "Toxin|Marvel Comics            2\n",
       "Batman|DC Comics               2\n",
       "                              ..\n",
       "Fabian Cortez|Marvel Comics    1\n",
       "Exodus|Marvel Comics           1\n",
       "Evilhawk|Marvel Comics         1\n",
       "Evil Deadpool|Marvel Comics    1\n",
       "Zoom|DC Comics                 1\n",
       "Name: Hero|Publisher, Length: 457, dtype: int64"
      ]
     },
     "execution_count": 7,
     "metadata": {},
     "output_type": "execute_result"
    }
   ],
   "source": [
    "Hero_col =superhero_info['Hero|Publisher'].value_counts()\n",
    "Hero_col"
   ]
  },
  {
   "cell_type": "code",
   "execution_count": 8,
   "id": "658d3325",
   "metadata": {},
   "outputs": [
    {
     "data": {
      "text/plain": [
       "'Abe Sapien|Dark Horse Comics'"
      ]
     },
     "execution_count": 8,
     "metadata": {},
     "output_type": "execute_result"
    }
   ],
   "source": [
    "test_hero = superhero_info.loc[1,'Hero|Publisher']\n",
    "test_hero"
   ]
  },
  {
   "cell_type": "code",
   "execution_count": 9,
   "id": "2af965ab",
   "metadata": {},
   "outputs": [],
   "source": [
    "superhero_info[['Hero', 'Publisher']] = superhero_info['Hero|Publisher'].str.split(pat='|', n=1, expand=True)"
   ]
  },
  {
   "cell_type": "code",
   "execution_count": 10,
   "id": "e03b1435",
   "metadata": {},
   "outputs": [
    {
     "name": "stdout",
     "output_type": "stream",
     "text": [
      "<class 'pandas.core.frame.DataFrame'>\n",
      "RangeIndex: 463 entries, 0 to 462\n",
      "Data columns (total 10 columns):\n",
      " #   Column          Non-Null Count  Dtype \n",
      "---  ------          --------------  ----- \n",
      " 0   Hero|Publisher  463 non-null    object\n",
      " 1   Gender          463 non-null    object\n",
      " 2   Race            463 non-null    object\n",
      " 3   Alignment       463 non-null    object\n",
      " 4   Hair color      463 non-null    object\n",
      " 5   Eye color       463 non-null    object\n",
      " 6   Skin color      463 non-null    object\n",
      " 7   Measurements    463 non-null    object\n",
      " 8   Hero            463 non-null    object\n",
      " 9   Publisher       463 non-null    object\n",
      "dtypes: object(10)\n",
      "memory usage: 36.3+ KB\n"
     ]
    }
   ],
   "source": [
    "superhero_info.info()"
   ]
  },
  {
   "cell_type": "code",
   "execution_count": 11,
   "id": "46a6a7b0",
   "metadata": {},
   "outputs": [
    {
     "data": {
      "text/plain": [
       "Spider-Man        3\n",
       "Black Canary      2\n",
       "Nova              2\n",
       "Captain Marvel    2\n",
       "Toxin             2\n",
       "                 ..\n",
       "Feral             1\n",
       "Falcon            1\n",
       "Fabian Cortez     1\n",
       "Exodus            1\n",
       "Zoom              1\n",
       "Name: Hero, Length: 455, dtype: int64"
      ]
     },
     "execution_count": 11,
     "metadata": {},
     "output_type": "execute_result"
    }
   ],
   "source": [
    "superhero_info['Hero'].value_counts()"
   ]
  },
  {
   "cell_type": "code",
   "execution_count": 12,
   "id": "467a4694",
   "metadata": {},
   "outputs": [
    {
     "data": {
      "text/plain": [
       "Marvel Comics        297\n",
       "DC Comics            138\n",
       "Dark Horse Comics     11\n",
       "George Lucas           5\n",
       "Team Epic TV           4\n",
       "Shueisha               4\n",
       "Star Trek              2\n",
       "Unknown                1\n",
       "Image Comics           1\n",
       "Name: Publisher, dtype: int64"
      ]
     },
     "execution_count": 12,
     "metadata": {},
     "output_type": "execute_result"
    }
   ],
   "source": [
    "superhero_info['Publisher'].value_counts()"
   ]
  },
  {
   "cell_type": "code",
   "execution_count": 13,
   "id": "89611283",
   "metadata": {},
   "outputs": [],
   "source": [
    "superhero_info.drop(columns=['Hero|Publisher'], inplace=True)"
   ]
  },
  {
   "cell_type": "code",
   "execution_count": 14,
   "id": "4ea49a88",
   "metadata": {
    "scrolled": true
   },
   "outputs": [
    {
     "data": {
      "text/plain": [
       "1    204\n",
       "2     42\n",
       "4     14\n",
       "3     12\n",
       "6      8\n",
       "5      7\n",
       "Name: Measurements, dtype: int64"
      ]
     },
     "execution_count": 14,
     "metadata": {},
     "output_type": "execute_result"
    }
   ],
   "source": [
    "superhero_info['Measurements'].value_counts().value_counts()"
   ]
  },
  {
   "cell_type": "code",
   "execution_count": 15,
   "id": "9836cf5b",
   "metadata": {},
   "outputs": [
    {
     "data": {
      "text/plain": [
       "\"{'Height': '191.0 cm', 'Weight': '65.0 kg'}\""
      ]
     },
     "execution_count": 15,
     "metadata": {},
     "output_type": "execute_result"
    }
   ],
   "source": [
    "test_measure = superhero_info.loc[1,'Measurements']\n",
    "test_measure"
   ]
  },
  {
   "cell_type": "code",
   "execution_count": 16,
   "id": "42815419",
   "metadata": {},
   "outputs": [
    {
     "data": {
      "text/plain": [
       "str"
      ]
     },
     "execution_count": 16,
     "metadata": {},
     "output_type": "execute_result"
    }
   ],
   "source": [
    "type(test_measure)"
   ]
  },
  {
   "cell_type": "code",
   "execution_count": 17,
   "id": "7819636a",
   "metadata": {},
   "outputs": [
    {
     "data": {
      "text/plain": [
       "'{\"Height\": \"191.0 cm\", \"Weight\": \"65.0 kg\"}'"
      ]
     },
     "execution_count": 17,
     "metadata": {},
     "output_type": "execute_result"
    }
   ],
   "source": [
    "test_measure = test_measure.replace(\"'\", '\"')\n",
    "test_measure "
   ]
  },
  {
   "cell_type": "code",
   "execution_count": 18,
   "id": "376f4baf",
   "metadata": {},
   "outputs": [
    {
     "data": {
      "text/plain": [
       "{'Height': '191.0 cm', 'Weight': '65.0 kg'}"
      ]
     },
     "execution_count": 18,
     "metadata": {},
     "output_type": "execute_result"
    }
   ],
   "source": [
    "json.loads(test_measure)"
   ]
  },
  {
   "cell_type": "code",
   "execution_count": 19,
   "id": "259d7b6a",
   "metadata": {},
   "outputs": [
    {
     "data": {
      "text/plain": [
       "dict"
      ]
     },
     "execution_count": 19,
     "metadata": {},
     "output_type": "execute_result"
    }
   ],
   "source": [
    "type(json.loads(test_measure))"
   ]
  },
  {
   "cell_type": "code",
   "execution_count": 20,
   "id": "84920c79",
   "metadata": {},
   "outputs": [],
   "source": [
    "superhero_info['Measurements'] = superhero_info['Measurements'].str.replace(\"'\", '\"')\n",
    "superhero_info['Measurements'] = superhero_info['Measurements'].apply(json.loads)"
   ]
  },
  {
   "cell_type": "code",
   "execution_count": 21,
   "id": "96c6e03a",
   "metadata": {
    "scrolled": true
   },
   "outputs": [
    {
     "data": {
      "text/html": [
       "<div>\n",
       "<style scoped>\n",
       "    .dataframe tbody tr th:only-of-type {\n",
       "        vertical-align: middle;\n",
       "    }\n",
       "\n",
       "    .dataframe tbody tr th {\n",
       "        vertical-align: top;\n",
       "    }\n",
       "\n",
       "    .dataframe thead th {\n",
       "        text-align: right;\n",
       "    }\n",
       "</style>\n",
       "<table border=\"1\" class=\"dataframe\">\n",
       "  <thead>\n",
       "    <tr style=\"text-align: right;\">\n",
       "      <th></th>\n",
       "      <th>Height</th>\n",
       "      <th>Weight</th>\n",
       "    </tr>\n",
       "  </thead>\n",
       "  <tbody>\n",
       "    <tr>\n",
       "      <th>0</th>\n",
       "      <td>203.0 cm</td>\n",
       "      <td>441.0 kg</td>\n",
       "    </tr>\n",
       "    <tr>\n",
       "      <th>1</th>\n",
       "      <td>191.0 cm</td>\n",
       "      <td>65.0 kg</td>\n",
       "    </tr>\n",
       "    <tr>\n",
       "      <th>2</th>\n",
       "      <td>185.0 cm</td>\n",
       "      <td>90.0 kg</td>\n",
       "    </tr>\n",
       "    <tr>\n",
       "      <th>3</th>\n",
       "      <td>203.0 cm</td>\n",
       "      <td>441.0 kg</td>\n",
       "    </tr>\n",
       "    <tr>\n",
       "      <th>4</th>\n",
       "      <td>193.0 cm</td>\n",
       "      <td>122.0 kg</td>\n",
       "    </tr>\n",
       "    <tr>\n",
       "      <th>...</th>\n",
       "      <td>...</td>\n",
       "      <td>...</td>\n",
       "    </tr>\n",
       "    <tr>\n",
       "      <th>458</th>\n",
       "      <td>183.0 cm</td>\n",
       "      <td>83.0 kg</td>\n",
       "    </tr>\n",
       "    <tr>\n",
       "      <th>459</th>\n",
       "      <td>165.0 cm</td>\n",
       "      <td>52.0 kg</td>\n",
       "    </tr>\n",
       "    <tr>\n",
       "      <th>460</th>\n",
       "      <td>66.0 cm</td>\n",
       "      <td>17.0 kg</td>\n",
       "    </tr>\n",
       "    <tr>\n",
       "      <th>461</th>\n",
       "      <td>170.0 cm</td>\n",
       "      <td>57.0 kg</td>\n",
       "    </tr>\n",
       "    <tr>\n",
       "      <th>462</th>\n",
       "      <td>185.0 cm</td>\n",
       "      <td>81.0 kg</td>\n",
       "    </tr>\n",
       "  </tbody>\n",
       "</table>\n",
       "<p>463 rows × 2 columns</p>\n",
       "</div>"
      ],
      "text/plain": [
       "       Height    Weight\n",
       "0    203.0 cm  441.0 kg\n",
       "1    191.0 cm   65.0 kg\n",
       "2    185.0 cm   90.0 kg\n",
       "3    203.0 cm  441.0 kg\n",
       "4    193.0 cm  122.0 kg\n",
       "..        ...       ...\n",
       "458  183.0 cm   83.0 kg\n",
       "459  165.0 cm   52.0 kg\n",
       "460   66.0 cm   17.0 kg\n",
       "461  170.0 cm   57.0 kg\n",
       "462  185.0 cm   81.0 kg\n",
       "\n",
       "[463 rows x 2 columns]"
      ]
     },
     "execution_count": 21,
     "metadata": {},
     "output_type": "execute_result"
    }
   ],
   "source": [
    "superhero_info['Measurements'].apply(pd.Series)"
   ]
  },
  {
   "cell_type": "code",
   "execution_count": 22,
   "id": "100fdb9f",
   "metadata": {},
   "outputs": [
    {
     "data": {
      "text/html": [
       "<div>\n",
       "<style scoped>\n",
       "    .dataframe tbody tr th:only-of-type {\n",
       "        vertical-align: middle;\n",
       "    }\n",
       "\n",
       "    .dataframe tbody tr th {\n",
       "        vertical-align: top;\n",
       "    }\n",
       "\n",
       "    .dataframe thead th {\n",
       "        text-align: right;\n",
       "    }\n",
       "</style>\n",
       "<table border=\"1\" class=\"dataframe\">\n",
       "  <thead>\n",
       "    <tr style=\"text-align: right;\">\n",
       "      <th></th>\n",
       "      <th>Gender</th>\n",
       "      <th>Race</th>\n",
       "      <th>Alignment</th>\n",
       "      <th>Hair color</th>\n",
       "      <th>Eye color</th>\n",
       "      <th>Skin color</th>\n",
       "      <th>Measurements</th>\n",
       "      <th>Hero</th>\n",
       "      <th>Publisher</th>\n",
       "      <th>Height</th>\n",
       "      <th>Weight</th>\n",
       "    </tr>\n",
       "  </thead>\n",
       "  <tbody>\n",
       "    <tr>\n",
       "      <th>0</th>\n",
       "      <td>Male</td>\n",
       "      <td>Human</td>\n",
       "      <td>good</td>\n",
       "      <td>No Hair</td>\n",
       "      <td>yellow</td>\n",
       "      <td>Unknown</td>\n",
       "      <td>{'Height': '203.0 cm', 'Weight': '441.0 kg'}</td>\n",
       "      <td>A-Bomb</td>\n",
       "      <td>Marvel Comics</td>\n",
       "      <td>203.0 cm</td>\n",
       "      <td>441.0 kg</td>\n",
       "    </tr>\n",
       "    <tr>\n",
       "      <th>1</th>\n",
       "      <td>Male</td>\n",
       "      <td>Icthyo Sapien</td>\n",
       "      <td>good</td>\n",
       "      <td>No Hair</td>\n",
       "      <td>blue</td>\n",
       "      <td>blue</td>\n",
       "      <td>{'Height': '191.0 cm', 'Weight': '65.0 kg'}</td>\n",
       "      <td>Abe Sapien</td>\n",
       "      <td>Dark Horse Comics</td>\n",
       "      <td>191.0 cm</td>\n",
       "      <td>65.0 kg</td>\n",
       "    </tr>\n",
       "  </tbody>\n",
       "</table>\n",
       "</div>"
      ],
      "text/plain": [
       "  Gender           Race Alignment Hair color Eye color Skin color  \\\n",
       "0   Male          Human      good    No Hair    yellow    Unknown   \n",
       "1   Male  Icthyo Sapien      good    No Hair      blue       blue   \n",
       "\n",
       "                                   Measurements        Hero  \\\n",
       "0  {'Height': '203.0 cm', 'Weight': '441.0 kg'}      A-Bomb   \n",
       "1   {'Height': '191.0 cm', 'Weight': '65.0 kg'}  Abe Sapien   \n",
       "\n",
       "           Publisher    Height    Weight  \n",
       "0      Marvel Comics  203.0 cm  441.0 kg  \n",
       "1  Dark Horse Comics  191.0 cm   65.0 kg  "
      ]
     },
     "execution_count": 22,
     "metadata": {},
     "output_type": "execute_result"
    }
   ],
   "source": [
    "superhero_info = pd.concat([superhero_info, superhero_info['Measurements'].apply(pd.Series)], axis = 1)\n",
    "\n",
    "superhero_info.head(2)"
   ]
  },
  {
   "cell_type": "code",
   "execution_count": 23,
   "id": "4f65d5c5",
   "metadata": {},
   "outputs": [
    {
     "data": {
      "text/html": [
       "<div>\n",
       "<style scoped>\n",
       "    .dataframe tbody tr th:only-of-type {\n",
       "        vertical-align: middle;\n",
       "    }\n",
       "\n",
       "    .dataframe tbody tr th {\n",
       "        vertical-align: top;\n",
       "    }\n",
       "\n",
       "    .dataframe thead th {\n",
       "        text-align: right;\n",
       "    }\n",
       "</style>\n",
       "<table border=\"1\" class=\"dataframe\">\n",
       "  <thead>\n",
       "    <tr style=\"text-align: right;\">\n",
       "      <th></th>\n",
       "      <th>Gender</th>\n",
       "      <th>Race</th>\n",
       "      <th>Alignment</th>\n",
       "      <th>Hair color</th>\n",
       "      <th>Eye color</th>\n",
       "      <th>Skin color</th>\n",
       "      <th>Hero</th>\n",
       "      <th>Publisher</th>\n",
       "      <th>Height</th>\n",
       "      <th>Weight</th>\n",
       "    </tr>\n",
       "  </thead>\n",
       "  <tbody>\n",
       "    <tr>\n",
       "      <th>0</th>\n",
       "      <td>Male</td>\n",
       "      <td>Human</td>\n",
       "      <td>good</td>\n",
       "      <td>No Hair</td>\n",
       "      <td>yellow</td>\n",
       "      <td>Unknown</td>\n",
       "      <td>A-Bomb</td>\n",
       "      <td>Marvel Comics</td>\n",
       "      <td>203.0 cm</td>\n",
       "      <td>441.0 kg</td>\n",
       "    </tr>\n",
       "    <tr>\n",
       "      <th>1</th>\n",
       "      <td>Male</td>\n",
       "      <td>Icthyo Sapien</td>\n",
       "      <td>good</td>\n",
       "      <td>No Hair</td>\n",
       "      <td>blue</td>\n",
       "      <td>blue</td>\n",
       "      <td>Abe Sapien</td>\n",
       "      <td>Dark Horse Comics</td>\n",
       "      <td>191.0 cm</td>\n",
       "      <td>65.0 kg</td>\n",
       "    </tr>\n",
       "  </tbody>\n",
       "</table>\n",
       "</div>"
      ],
      "text/plain": [
       "  Gender           Race Alignment Hair color Eye color Skin color        Hero  \\\n",
       "0   Male          Human      good    No Hair    yellow    Unknown      A-Bomb   \n",
       "1   Male  Icthyo Sapien      good    No Hair      blue       blue  Abe Sapien   \n",
       "\n",
       "           Publisher    Height    Weight  \n",
       "0      Marvel Comics  203.0 cm  441.0 kg  \n",
       "1  Dark Horse Comics  191.0 cm   65.0 kg  "
      ]
     },
     "execution_count": 23,
     "metadata": {},
     "output_type": "execute_result"
    }
   ],
   "source": [
    "superhero_info.drop(columns=['Measurements'], inplace=True)\n",
    "superhero_info.head(2)"
   ]
  },
  {
   "cell_type": "code",
   "execution_count": 24,
   "id": "4f585f00",
   "metadata": {},
   "outputs": [
    {
     "name": "stdout",
     "output_type": "stream",
     "text": [
      "<class 'pandas.core.frame.DataFrame'>\n",
      "RangeIndex: 463 entries, 0 to 462\n",
      "Data columns (total 10 columns):\n",
      " #   Column      Non-Null Count  Dtype \n",
      "---  ------      --------------  ----- \n",
      " 0   Gender      463 non-null    object\n",
      " 1   Race        463 non-null    object\n",
      " 2   Alignment   463 non-null    object\n",
      " 3   Hair color  463 non-null    object\n",
      " 4   Eye color   463 non-null    object\n",
      " 5   Skin color  463 non-null    object\n",
      " 6   Hero        463 non-null    object\n",
      " 7   Publisher   463 non-null    object\n",
      " 8   Height      463 non-null    object\n",
      " 9   Weight      463 non-null    object\n",
      "dtypes: object(10)\n",
      "memory usage: 36.3+ KB\n"
     ]
    }
   ],
   "source": [
    "superhero_info.info()"
   ]
  },
  {
   "cell_type": "code",
   "execution_count": 25,
   "id": "4bbcc9cf",
   "metadata": {},
   "outputs": [],
   "source": [
    "superhero_info['Height'] = superhero_info['Height'].str.replace(' cm', '').astype(float)\n",
    "\n",
    "superhero_info['Weight'] = superhero_info['Weight'].str.replace(' kg', '').astype(float)\n"
   ]
  },
  {
   "cell_type": "code",
   "execution_count": 26,
   "id": "ca9f4388",
   "metadata": {},
   "outputs": [
    {
     "name": "stdout",
     "output_type": "stream",
     "text": [
      "<class 'pandas.core.frame.DataFrame'>\n",
      "RangeIndex: 463 entries, 0 to 462\n",
      "Data columns (total 10 columns):\n",
      " #   Column      Non-Null Count  Dtype  \n",
      "---  ------      --------------  -----  \n",
      " 0   Gender      463 non-null    object \n",
      " 1   Race        463 non-null    object \n",
      " 2   Alignment   463 non-null    object \n",
      " 3   Hair color  463 non-null    object \n",
      " 4   Eye color   463 non-null    object \n",
      " 5   Skin color  463 non-null    object \n",
      " 6   Hero        463 non-null    object \n",
      " 7   Publisher   463 non-null    object \n",
      " 8   Height      463 non-null    float64\n",
      " 9   Weight      463 non-null    float64\n",
      "dtypes: float64(2), object(8)\n",
      "memory usage: 36.3+ KB\n"
     ]
    }
   ],
   "source": [
    "superhero_info.info()"
   ]
  },
  {
   "cell_type": "code",
   "execution_count": 27,
   "id": "9b2ab27a",
   "metadata": {
    "scrolled": true
   },
   "outputs": [
    {
     "data": {
      "text/html": [
       "<div>\n",
       "<style scoped>\n",
       "    .dataframe tbody tr th:only-of-type {\n",
       "        vertical-align: middle;\n",
       "    }\n",
       "\n",
       "    .dataframe tbody tr th {\n",
       "        vertical-align: top;\n",
       "    }\n",
       "\n",
       "    .dataframe thead th {\n",
       "        text-align: right;\n",
       "    }\n",
       "</style>\n",
       "<table border=\"1\" class=\"dataframe\">\n",
       "  <thead>\n",
       "    <tr style=\"text-align: right;\">\n",
       "      <th></th>\n",
       "      <th>hero_names</th>\n",
       "      <th>Powers</th>\n",
       "    </tr>\n",
       "  </thead>\n",
       "  <tbody>\n",
       "    <tr>\n",
       "      <th>0</th>\n",
       "      <td>3-D Man</td>\n",
       "      <td>Agility,Super Strength,Stamina,Super Speed</td>\n",
       "    </tr>\n",
       "    <tr>\n",
       "      <th>1</th>\n",
       "      <td>A-Bomb</td>\n",
       "      <td>Accelerated Healing,Durability,Longevity,Super...</td>\n",
       "    </tr>\n",
       "    <tr>\n",
       "      <th>2</th>\n",
       "      <td>Abe Sapien</td>\n",
       "      <td>Agility,Accelerated Healing,Cold Resistance,Du...</td>\n",
       "    </tr>\n",
       "    <tr>\n",
       "      <th>3</th>\n",
       "      <td>Abin Sur</td>\n",
       "      <td>Lantern Power Ring</td>\n",
       "    </tr>\n",
       "    <tr>\n",
       "      <th>4</th>\n",
       "      <td>Abomination</td>\n",
       "      <td>Accelerated Healing,Intelligence,Super Strengt...</td>\n",
       "    </tr>\n",
       "  </tbody>\n",
       "</table>\n",
       "</div>"
      ],
      "text/plain": [
       "    hero_names                                             Powers\n",
       "0      3-D Man         Agility,Super Strength,Stamina,Super Speed\n",
       "1       A-Bomb  Accelerated Healing,Durability,Longevity,Super...\n",
       "2   Abe Sapien  Agility,Accelerated Healing,Cold Resistance,Du...\n",
       "3     Abin Sur                                 Lantern Power Ring\n",
       "4  Abomination  Accelerated Healing,Intelligence,Super Strengt..."
      ]
     },
     "execution_count": 27,
     "metadata": {},
     "output_type": "execute_result"
    }
   ],
   "source": [
    "superhero_powers.head()"
   ]
  },
  {
   "cell_type": "code",
   "execution_count": 28,
   "id": "a6b1beac",
   "metadata": {
    "scrolled": false
   },
   "outputs": [
    {
     "data": {
      "text/plain": [
       "Intelligence                                                                                                                                                                                                                                                         8\n",
       "Durability,Super Strength                                                                                                                                                                                                                                            5\n",
       "Agility,Stealth,Marksmanship,Weapons Master,Stamina                                                                                                                                                                                                                  4\n",
       "Marksmanship                                                                                                                                                                                                                                                         4\n",
       "Teleportation                                                                                                                                                                                                                                                        4\n",
       "                                                                                                                                                                                                                                                                    ..\n",
       "Accelerated Healing,Flight,Telepathy,Energy Blasts,Teleportation,Telekinesis,Astral Projection,Psionic Powers,Mind Blast,Regeneration,Illusions,Resurrection                                                                                                         1\n",
       "Flight,Telepathy,Animal Oriented Powers,Gliding                                                                                                                                                                                                                      1\n",
       "Accelerated Healing,Durability,Energy Absorption,Flight,Super Strength,Telepathy,Energy Blasts,Size Changing,Super Speed,Darkforce Manipulation,Enhanced Senses,Phasing,Invulnerability,Self-Sustenance,Gravity Control,Energy Manipulation,Time Travel,Illusions    1\n",
       "Agility,Accelerated Healing,Super Strength,Super Speed,Animal Oriented Powers,Enhanced Senses,Jump,Reflexes,Natural Weapons                                                                                                                                          1\n",
       "Super Speed,Intangibility,Time Travel,Time Manipulation                                                                                                                                                                                                              1\n",
       "Name: Powers, Length: 608, dtype: int64"
      ]
     },
     "execution_count": 28,
     "metadata": {},
     "output_type": "execute_result"
    }
   ],
   "source": [
    "superhero_powers['Powers'].value_counts()"
   ]
  },
  {
   "cell_type": "code",
   "execution_count": 29,
   "id": "3f203771",
   "metadata": {},
   "outputs": [
    {
     "data": {
      "text/plain": [
       "'Accelerated Healing,Durability,Danger Sense,Super Strength,Stamina,Enhanced Senses,Shapeshifting,Camouflage,Reflexes,Elasticity,Toxin and Disease Resistance,Wallcrawling,Web Creation,Symbiote Costume'"
      ]
     },
     "execution_count": 29,
     "metadata": {},
     "output_type": "execute_result"
    }
   ],
   "source": [
    "test_powers = superhero_powers.loc[31, 'Powers']\n",
    "test_powers"
   ]
  },
  {
   "cell_type": "code",
   "execution_count": 30,
   "id": "b46e98ba",
   "metadata": {},
   "outputs": [
    {
     "data": {
      "text/plain": [
       "str"
      ]
     },
     "execution_count": 30,
     "metadata": {},
     "output_type": "execute_result"
    }
   ],
   "source": [
    "type(test_powers)"
   ]
  },
  {
   "cell_type": "code",
   "execution_count": 31,
   "id": "b46e57c6",
   "metadata": {},
   "outputs": [
    {
     "data": {
      "text/plain": [
       "'Accelerated Healing,Durability,Danger Sense,Super Strength,Stamina,Enhanced Senses,Shapeshifting,Camouflage,Reflexes,Elasticity,Toxin and Disease Resistance,Wallcrawling,Web Creation,Symbiote Costume'"
      ]
     },
     "execution_count": 31,
     "metadata": {},
     "output_type": "execute_result"
    }
   ],
   "source": [
    "saved_test = test_powers.replace(\"'\",'\"')\n",
    "saved_test"
   ]
  },
  {
   "cell_type": "code",
   "execution_count": 38,
   "id": "9a36cd5e",
   "metadata": {
    "scrolled": true
   },
   "outputs": [
    {
     "data": {
      "text/plain": [
       "'[\"Accelerated Healing\", \"Durability\", \"Danger Sense\", \"Super Strength\", \"Stamina\", \"Enhanced Senses\", \"Shapeshifting\", \"Camouflage\", \"Reflexes\", \"Elasticity\", \"Toxin and Disease Resistance\", \"Wallcrawling\", \"Web Creation\", \"Symbiote Costume\"]'"
      ]
     },
     "execution_count": 38,
     "metadata": {},
     "output_type": "execute_result"
    }
   ],
   "source": [
    "json_array = json.dumps(saved_test.split(','))\n",
    "json_array"
   ]
  },
  {
   "cell_type": "code",
   "execution_count": 37,
   "id": "8ced62a6",
   "metadata": {},
   "outputs": [
    {
     "ename": "JSONDecodeError",
     "evalue": "Expecting value: line 1 column 1 (char 0)",
     "output_type": "error",
     "traceback": [
      "\u001b[0;31m---------------------------------------------------------------------------\u001b[0m",
      "\u001b[0;31mJSONDecodeError\u001b[0m                           Traceback (most recent call last)",
      "Cell \u001b[0;32mIn [37], line 5\u001b[0m\n\u001b[1;32m      3\u001b[0m superhero_powers[\u001b[38;5;124m'\u001b[39m\u001b[38;5;124mPowers_split\u001b[39m\u001b[38;5;124m'\u001b[39m] \u001b[38;5;241m=\u001b[39m superhero_powers[\u001b[38;5;124m'\u001b[39m\u001b[38;5;124mPowers_split\u001b[39m\u001b[38;5;124m'\u001b[39m]\u001b[38;5;241m.\u001b[39mstr\u001b[38;5;241m.\u001b[39mreplace(\u001b[38;5;124m\"\u001b[39m\u001b[38;5;124m'\u001b[39m\u001b[38;5;124m\"\u001b[39m, \u001b[38;5;124m'\u001b[39m\u001b[38;5;124m\"\u001b[39m\u001b[38;5;124m'\u001b[39m)\n\u001b[1;32m      4\u001b[0m \u001b[38;5;66;03m# Apply json.loads to entire column\u001b[39;00m\n\u001b[0;32m----> 5\u001b[0m superhero_powers[\u001b[38;5;124m'\u001b[39m\u001b[38;5;124mPowers_split\u001b[39m\u001b[38;5;124m'\u001b[39m] \u001b[38;5;241m=\u001b[39m \u001b[43msuperhero_powers\u001b[49m\u001b[43m[\u001b[49m\u001b[38;5;124;43m'\u001b[39;49m\u001b[38;5;124;43mPowers_split\u001b[39;49m\u001b[38;5;124;43m'\u001b[39;49m\u001b[43m]\u001b[49m\u001b[38;5;241;43m.\u001b[39;49m\u001b[43mapply\u001b[49m\u001b[43m(\u001b[49m\u001b[43mjson\u001b[49m\u001b[38;5;241;43m.\u001b[39;49m\u001b[43mloads\u001b[49m\u001b[43m)\u001b[49m\n\u001b[1;32m      6\u001b[0m superhero_powers[\u001b[38;5;124m'\u001b[39m\u001b[38;5;124mPowers_split\u001b[39m\u001b[38;5;124m'\u001b[39m]\u001b[38;5;241m.\u001b[39mhead()\n",
      "File \u001b[0;32m~/anaconda3/envs/dojo-env/lib/python3.9/site-packages/pandas/core/series.py:4771\u001b[0m, in \u001b[0;36mSeries.apply\u001b[0;34m(self, func, convert_dtype, args, **kwargs)\u001b[0m\n\u001b[1;32m   4661\u001b[0m \u001b[38;5;28;01mdef\u001b[39;00m \u001b[38;5;21mapply\u001b[39m(\n\u001b[1;32m   4662\u001b[0m     \u001b[38;5;28mself\u001b[39m,\n\u001b[1;32m   4663\u001b[0m     func: AggFuncType,\n\u001b[0;32m   (...)\u001b[0m\n\u001b[1;32m   4666\u001b[0m     \u001b[38;5;241m*\u001b[39m\u001b[38;5;241m*\u001b[39mkwargs,\n\u001b[1;32m   4667\u001b[0m ) \u001b[38;5;241m-\u001b[39m\u001b[38;5;241m>\u001b[39m DataFrame \u001b[38;5;241m|\u001b[39m Series:\n\u001b[1;32m   4668\u001b[0m     \u001b[38;5;124;03m\"\"\"\u001b[39;00m\n\u001b[1;32m   4669\u001b[0m \u001b[38;5;124;03m    Invoke function on values of Series.\u001b[39;00m\n\u001b[1;32m   4670\u001b[0m \n\u001b[0;32m   (...)\u001b[0m\n\u001b[1;32m   4769\u001b[0m \u001b[38;5;124;03m    dtype: float64\u001b[39;00m\n\u001b[1;32m   4770\u001b[0m \u001b[38;5;124;03m    \"\"\"\u001b[39;00m\n\u001b[0;32m-> 4771\u001b[0m     \u001b[38;5;28;01mreturn\u001b[39;00m \u001b[43mSeriesApply\u001b[49m\u001b[43m(\u001b[49m\u001b[38;5;28;43mself\u001b[39;49m\u001b[43m,\u001b[49m\u001b[43m \u001b[49m\u001b[43mfunc\u001b[49m\u001b[43m,\u001b[49m\u001b[43m \u001b[49m\u001b[43mconvert_dtype\u001b[49m\u001b[43m,\u001b[49m\u001b[43m \u001b[49m\u001b[43margs\u001b[49m\u001b[43m,\u001b[49m\u001b[43m \u001b[49m\u001b[43mkwargs\u001b[49m\u001b[43m)\u001b[49m\u001b[38;5;241;43m.\u001b[39;49m\u001b[43mapply\u001b[49m\u001b[43m(\u001b[49m\u001b[43m)\u001b[49m\n",
      "File \u001b[0;32m~/anaconda3/envs/dojo-env/lib/python3.9/site-packages/pandas/core/apply.py:1123\u001b[0m, in \u001b[0;36mSeriesApply.apply\u001b[0;34m(self)\u001b[0m\n\u001b[1;32m   1120\u001b[0m     \u001b[38;5;28;01mreturn\u001b[39;00m \u001b[38;5;28mself\u001b[39m\u001b[38;5;241m.\u001b[39mapply_str()\n\u001b[1;32m   1122\u001b[0m \u001b[38;5;66;03m# self.f is Callable\u001b[39;00m\n\u001b[0;32m-> 1123\u001b[0m \u001b[38;5;28;01mreturn\u001b[39;00m \u001b[38;5;28;43mself\u001b[39;49m\u001b[38;5;241;43m.\u001b[39;49m\u001b[43mapply_standard\u001b[49m\u001b[43m(\u001b[49m\u001b[43m)\u001b[49m\n",
      "File \u001b[0;32m~/anaconda3/envs/dojo-env/lib/python3.9/site-packages/pandas/core/apply.py:1174\u001b[0m, in \u001b[0;36mSeriesApply.apply_standard\u001b[0;34m(self)\u001b[0m\n\u001b[1;32m   1172\u001b[0m     \u001b[38;5;28;01melse\u001b[39;00m:\n\u001b[1;32m   1173\u001b[0m         values \u001b[38;5;241m=\u001b[39m obj\u001b[38;5;241m.\u001b[39mastype(\u001b[38;5;28mobject\u001b[39m)\u001b[38;5;241m.\u001b[39m_values\n\u001b[0;32m-> 1174\u001b[0m         mapped \u001b[38;5;241m=\u001b[39m \u001b[43mlib\u001b[49m\u001b[38;5;241;43m.\u001b[39;49m\u001b[43mmap_infer\u001b[49m\u001b[43m(\u001b[49m\n\u001b[1;32m   1175\u001b[0m \u001b[43m            \u001b[49m\u001b[43mvalues\u001b[49m\u001b[43m,\u001b[49m\n\u001b[1;32m   1176\u001b[0m \u001b[43m            \u001b[49m\u001b[43mf\u001b[49m\u001b[43m,\u001b[49m\n\u001b[1;32m   1177\u001b[0m \u001b[43m            \u001b[49m\u001b[43mconvert\u001b[49m\u001b[38;5;241;43m=\u001b[39;49m\u001b[38;5;28;43mself\u001b[39;49m\u001b[38;5;241;43m.\u001b[39;49m\u001b[43mconvert_dtype\u001b[49m\u001b[43m,\u001b[49m\n\u001b[1;32m   1178\u001b[0m \u001b[43m        \u001b[49m\u001b[43m)\u001b[49m\n\u001b[1;32m   1180\u001b[0m \u001b[38;5;28;01mif\u001b[39;00m \u001b[38;5;28mlen\u001b[39m(mapped) \u001b[38;5;129;01mand\u001b[39;00m \u001b[38;5;28misinstance\u001b[39m(mapped[\u001b[38;5;241m0\u001b[39m], ABCSeries):\n\u001b[1;32m   1181\u001b[0m     \u001b[38;5;66;03m# GH#43986 Need to do list(mapped) in order to get treated as nested\u001b[39;00m\n\u001b[1;32m   1182\u001b[0m     \u001b[38;5;66;03m#  See also GH#25959 regarding EA support\u001b[39;00m\n\u001b[1;32m   1183\u001b[0m     \u001b[38;5;28;01mreturn\u001b[39;00m obj\u001b[38;5;241m.\u001b[39m_constructor_expanddim(\u001b[38;5;28mlist\u001b[39m(mapped), index\u001b[38;5;241m=\u001b[39mobj\u001b[38;5;241m.\u001b[39mindex)\n",
      "File \u001b[0;32m~/anaconda3/envs/dojo-env/lib/python3.9/site-packages/pandas/_libs/lib.pyx:2924\u001b[0m, in \u001b[0;36mpandas._libs.lib.map_infer\u001b[0;34m()\u001b[0m\n",
      "File \u001b[0;32m~/anaconda3/envs/dojo-env/lib/python3.9/json/__init__.py:346\u001b[0m, in \u001b[0;36mloads\u001b[0;34m(s, cls, object_hook, parse_float, parse_int, parse_constant, object_pairs_hook, **kw)\u001b[0m\n\u001b[1;32m    341\u001b[0m     s \u001b[38;5;241m=\u001b[39m s\u001b[38;5;241m.\u001b[39mdecode(detect_encoding(s), \u001b[38;5;124m'\u001b[39m\u001b[38;5;124msurrogatepass\u001b[39m\u001b[38;5;124m'\u001b[39m)\n\u001b[1;32m    343\u001b[0m \u001b[38;5;28;01mif\u001b[39;00m (\u001b[38;5;28mcls\u001b[39m \u001b[38;5;129;01mis\u001b[39;00m \u001b[38;5;28;01mNone\u001b[39;00m \u001b[38;5;129;01mand\u001b[39;00m object_hook \u001b[38;5;129;01mis\u001b[39;00m \u001b[38;5;28;01mNone\u001b[39;00m \u001b[38;5;129;01mand\u001b[39;00m\n\u001b[1;32m    344\u001b[0m         parse_int \u001b[38;5;129;01mis\u001b[39;00m \u001b[38;5;28;01mNone\u001b[39;00m \u001b[38;5;129;01mand\u001b[39;00m parse_float \u001b[38;5;129;01mis\u001b[39;00m \u001b[38;5;28;01mNone\u001b[39;00m \u001b[38;5;129;01mand\u001b[39;00m\n\u001b[1;32m    345\u001b[0m         parse_constant \u001b[38;5;129;01mis\u001b[39;00m \u001b[38;5;28;01mNone\u001b[39;00m \u001b[38;5;129;01mand\u001b[39;00m object_pairs_hook \u001b[38;5;129;01mis\u001b[39;00m \u001b[38;5;28;01mNone\u001b[39;00m \u001b[38;5;129;01mand\u001b[39;00m \u001b[38;5;129;01mnot\u001b[39;00m kw):\n\u001b[0;32m--> 346\u001b[0m     \u001b[38;5;28;01mreturn\u001b[39;00m \u001b[43m_default_decoder\u001b[49m\u001b[38;5;241;43m.\u001b[39;49m\u001b[43mdecode\u001b[49m\u001b[43m(\u001b[49m\u001b[43ms\u001b[49m\u001b[43m)\u001b[49m\n\u001b[1;32m    347\u001b[0m \u001b[38;5;28;01mif\u001b[39;00m \u001b[38;5;28mcls\u001b[39m \u001b[38;5;129;01mis\u001b[39;00m \u001b[38;5;28;01mNone\u001b[39;00m:\n\u001b[1;32m    348\u001b[0m     \u001b[38;5;28mcls\u001b[39m \u001b[38;5;241m=\u001b[39m JSONDecoder\n",
      "File \u001b[0;32m~/anaconda3/envs/dojo-env/lib/python3.9/json/decoder.py:337\u001b[0m, in \u001b[0;36mJSONDecoder.decode\u001b[0;34m(self, s, _w)\u001b[0m\n\u001b[1;32m    332\u001b[0m \u001b[38;5;28;01mdef\u001b[39;00m \u001b[38;5;21mdecode\u001b[39m(\u001b[38;5;28mself\u001b[39m, s, _w\u001b[38;5;241m=\u001b[39mWHITESPACE\u001b[38;5;241m.\u001b[39mmatch):\n\u001b[1;32m    333\u001b[0m     \u001b[38;5;124;03m\"\"\"Return the Python representation of ``s`` (a ``str`` instance\u001b[39;00m\n\u001b[1;32m    334\u001b[0m \u001b[38;5;124;03m    containing a JSON document).\u001b[39;00m\n\u001b[1;32m    335\u001b[0m \n\u001b[1;32m    336\u001b[0m \u001b[38;5;124;03m    \"\"\"\u001b[39;00m\n\u001b[0;32m--> 337\u001b[0m     obj, end \u001b[38;5;241m=\u001b[39m \u001b[38;5;28;43mself\u001b[39;49m\u001b[38;5;241;43m.\u001b[39;49m\u001b[43mraw_decode\u001b[49m\u001b[43m(\u001b[49m\u001b[43ms\u001b[49m\u001b[43m,\u001b[49m\u001b[43m \u001b[49m\u001b[43midx\u001b[49m\u001b[38;5;241;43m=\u001b[39;49m\u001b[43m_w\u001b[49m\u001b[43m(\u001b[49m\u001b[43ms\u001b[49m\u001b[43m,\u001b[49m\u001b[43m \u001b[49m\u001b[38;5;241;43m0\u001b[39;49m\u001b[43m)\u001b[49m\u001b[38;5;241;43m.\u001b[39;49m\u001b[43mend\u001b[49m\u001b[43m(\u001b[49m\u001b[43m)\u001b[49m\u001b[43m)\u001b[49m\n\u001b[1;32m    338\u001b[0m     end \u001b[38;5;241m=\u001b[39m _w(s, end)\u001b[38;5;241m.\u001b[39mend()\n\u001b[1;32m    339\u001b[0m     \u001b[38;5;28;01mif\u001b[39;00m end \u001b[38;5;241m!=\u001b[39m \u001b[38;5;28mlen\u001b[39m(s):\n",
      "File \u001b[0;32m~/anaconda3/envs/dojo-env/lib/python3.9/json/decoder.py:355\u001b[0m, in \u001b[0;36mJSONDecoder.raw_decode\u001b[0;34m(self, s, idx)\u001b[0m\n\u001b[1;32m    353\u001b[0m     obj, end \u001b[38;5;241m=\u001b[39m \u001b[38;5;28mself\u001b[39m\u001b[38;5;241m.\u001b[39mscan_once(s, idx)\n\u001b[1;32m    354\u001b[0m \u001b[38;5;28;01mexcept\u001b[39;00m \u001b[38;5;167;01mStopIteration\u001b[39;00m \u001b[38;5;28;01mas\u001b[39;00m err:\n\u001b[0;32m--> 355\u001b[0m     \u001b[38;5;28;01mraise\u001b[39;00m JSONDecodeError(\u001b[38;5;124m\"\u001b[39m\u001b[38;5;124mExpecting value\u001b[39m\u001b[38;5;124m\"\u001b[39m, s, err\u001b[38;5;241m.\u001b[39mvalue) \u001b[38;5;28;01mfrom\u001b[39;00m \u001b[38;5;28mNone\u001b[39m\n\u001b[1;32m    356\u001b[0m \u001b[38;5;28;01mreturn\u001b[39;00m obj, end\n",
      "\u001b[0;31mJSONDecodeError\u001b[0m: Expecting value: line 1 column 1 (char 0)"
     ]
    }
   ],
   "source": [
    "# Applying transformations to entire column\n",
    "# Create a new column where the single quotes are replaced with double quotes\n",
    "superhero_powers['Powers_split'] = superhero_powers['Powers_split'].str.replace(\"'\", '\"')\n",
    "# Apply json.loads to entire column\n",
    "superhero_powers['Powers_split'] = superhero_powers['Powers_split'].apply(json.loads)\n",
    "superhero_powers['Powers_split'].head()"
   ]
  },
  {
   "cell_type": "code",
   "execution_count": null,
   "id": "b3339751",
   "metadata": {},
   "outputs": [],
   "source": [
    "superhero_powers['Powers_split'].value_counts()"
   ]
  },
  {
   "cell_type": "code",
   "execution_count": null,
   "id": "9c8561d6",
   "metadata": {},
   "outputs": [],
   "source": [
    "# Converting transactions column into a one-hot-encoded column\n",
    "exploded = superhero_powers.explode('Powers_split')\n",
    "exploded[['hero_names', 'Powers', 'Powers_split']].head()"
   ]
  },
  {
   "cell_type": "code",
   "execution_count": null,
   "id": "2df306e4",
   "metadata": {},
   "outputs": [],
   "source": [
    "cols_to_make = exploded['Powers_split'].dropna().unique()\n",
    "cols_to_make"
   ]
  },
  {
   "cell_type": "code",
   "execution_count": null,
   "id": "1a68b5b9",
   "metadata": {},
   "outputs": [],
   "source": [
    "superhero_powers.drop(columns=['Powers_split'], inplace=True)\n"
   ]
  },
  {
   "cell_type": "code",
   "execution_count": null,
   "id": "d88bad81",
   "metadata": {},
   "outputs": [],
   "source": [
    "# Using a for loop with .str.contains to create new columns\n",
    "for col in cols_to_make:\n",
    "    superhero_powers[col] = superhero_powers['Powers'].str.contains(col)\n",
    "superhero_powers.head()"
   ]
  },
  {
   "cell_type": "code",
   "execution_count": null,
   "id": "ee66a100",
   "metadata": {},
   "outputs": [],
   "source": [
    "import pandas as pd\n",
    "\n",
    "combined_df = pd.concat([superhero_info, superhero_powers], ignore_index=True)import pandas as pd\n",
    "\n"
   ]
  },
  {
   "cell_type": "markdown",
   "id": "1702520f",
   "metadata": {},
   "source": [
    "1. Compare the average weight of super powers who have Super Speed to those who do not.\n"
   ]
  },
  {
   "cell_type": "code",
   "execution_count": null,
   "id": "3b9e4493",
   "metadata": {},
   "outputs": [],
   "source": []
  },
  {
   "cell_type": "markdown",
   "id": "ce009c36",
   "metadata": {},
   "source": [
    "2. What is the average height of heroes for each publisher?"
   ]
  }
 ],
 "metadata": {
  "kernelspec": {
   "display_name": "Python (dojo-env)",
   "language": "python",
   "name": "dojo-env"
  },
  "language_info": {
   "codemirror_mode": {
    "name": "ipython",
    "version": 3
   },
   "file_extension": ".py",
   "mimetype": "text/x-python",
   "name": "python",
   "nbconvert_exporter": "python",
   "pygments_lexer": "ipython3",
   "version": "3.9.15"
  },
  "toc": {
   "base_numbering": 1,
   "nav_menu": {},
   "number_sections": true,
   "sideBar": true,
   "skip_h1_title": false,
   "title_cell": "Table of Contents",
   "title_sidebar": "Contents",
   "toc_cell": false,
   "toc_position": {},
   "toc_section_display": true,
   "toc_window_display": false
  }
 },
 "nbformat": 4,
 "nbformat_minor": 5
}
