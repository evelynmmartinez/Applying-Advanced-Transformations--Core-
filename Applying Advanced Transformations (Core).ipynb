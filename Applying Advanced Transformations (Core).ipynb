{
 "cells": [
  {
   "cell_type": "code",
   "execution_count": 1,
   "id": "8241de2f",
   "metadata": {},
   "outputs": [],
   "source": [
    "## Standard Imports\n",
    "import numpy as np\n",
    "import pandas as pd\n",
    "import matplotlib.pyplot as plt\n",
    "import seaborn as sns\n",
    "## Importing the OS and JSON Modules\n",
    "import os,json"
   ]
  },
  {
   "cell_type": "code",
   "execution_count": 2,
   "id": "e027cba9",
   "metadata": {},
   "outputs": [
    {
     "data": {
      "text/plain": [
       "['superhero_info - superhero_info.csv',\n",
       " 'superhero_powers - superhero_powers.csv']"
      ]
     },
     "execution_count": 2,
     "metadata": {},
     "output_type": "execute_result"
    }
   ],
   "source": [
    "import os\n",
    "os.makedirs('Data/',exist_ok=True) \n",
    "os.listdir(\"Data/\")"
   ]
  },
  {
   "cell_type": "code",
   "execution_count": 3,
   "id": "ceeddbf8",
   "metadata": {},
   "outputs": [
    {
     "data": {
      "text/html": [
       "<div>\n",
       "<style scoped>\n",
       "    .dataframe tbody tr th:only-of-type {\n",
       "        vertical-align: middle;\n",
       "    }\n",
       "\n",
       "    .dataframe tbody tr th {\n",
       "        vertical-align: top;\n",
       "    }\n",
       "\n",
       "    .dataframe thead th {\n",
       "        text-align: right;\n",
       "    }\n",
       "</style>\n",
       "<table border=\"1\" class=\"dataframe\">\n",
       "  <thead>\n",
       "    <tr style=\"text-align: right;\">\n",
       "      <th></th>\n",
       "      <th>Hero|Publisher</th>\n",
       "      <th>Gender</th>\n",
       "      <th>Race</th>\n",
       "      <th>Alignment</th>\n",
       "      <th>Hair color</th>\n",
       "      <th>Eye color</th>\n",
       "      <th>Skin color</th>\n",
       "      <th>Measurements</th>\n",
       "    </tr>\n",
       "  </thead>\n",
       "  <tbody>\n",
       "    <tr>\n",
       "      <th>0</th>\n",
       "      <td>A-Bomb|Marvel Comics</td>\n",
       "      <td>Male</td>\n",
       "      <td>Human</td>\n",
       "      <td>good</td>\n",
       "      <td>No Hair</td>\n",
       "      <td>yellow</td>\n",
       "      <td>Unknown</td>\n",
       "      <td>{'Height': '203.0 cm', 'Weight': '441.0 kg'}</td>\n",
       "    </tr>\n",
       "    <tr>\n",
       "      <th>1</th>\n",
       "      <td>Abe Sapien|Dark Horse Comics</td>\n",
       "      <td>Male</td>\n",
       "      <td>Icthyo Sapien</td>\n",
       "      <td>good</td>\n",
       "      <td>No Hair</td>\n",
       "      <td>blue</td>\n",
       "      <td>blue</td>\n",
       "      <td>{'Height': '191.0 cm', 'Weight': '65.0 kg'}</td>\n",
       "    </tr>\n",
       "    <tr>\n",
       "      <th>2</th>\n",
       "      <td>Abin Sur|DC Comics</td>\n",
       "      <td>Male</td>\n",
       "      <td>Ungaran</td>\n",
       "      <td>good</td>\n",
       "      <td>No Hair</td>\n",
       "      <td>blue</td>\n",
       "      <td>red</td>\n",
       "      <td>{'Height': '185.0 cm', 'Weight': '90.0 kg'}</td>\n",
       "    </tr>\n",
       "    <tr>\n",
       "      <th>3</th>\n",
       "      <td>Abomination|Marvel Comics</td>\n",
       "      <td>Male</td>\n",
       "      <td>Human / Radiation</td>\n",
       "      <td>bad</td>\n",
       "      <td>No Hair</td>\n",
       "      <td>green</td>\n",
       "      <td>Unknown</td>\n",
       "      <td>{'Height': '203.0 cm', 'Weight': '441.0 kg'}</td>\n",
       "    </tr>\n",
       "    <tr>\n",
       "      <th>4</th>\n",
       "      <td>Absorbing Man|Marvel Comics</td>\n",
       "      <td>Male</td>\n",
       "      <td>Human</td>\n",
       "      <td>bad</td>\n",
       "      <td>No Hair</td>\n",
       "      <td>blue</td>\n",
       "      <td>Unknown</td>\n",
       "      <td>{'Height': '193.0 cm', 'Weight': '122.0 kg'}</td>\n",
       "    </tr>\n",
       "  </tbody>\n",
       "</table>\n",
       "</div>"
      ],
      "text/plain": [
       "                 Hero|Publisher Gender               Race Alignment  \\\n",
       "0          A-Bomb|Marvel Comics   Male              Human      good   \n",
       "1  Abe Sapien|Dark Horse Comics   Male      Icthyo Sapien      good   \n",
       "2            Abin Sur|DC Comics   Male            Ungaran      good   \n",
       "3     Abomination|Marvel Comics   Male  Human / Radiation       bad   \n",
       "4   Absorbing Man|Marvel Comics   Male              Human       bad   \n",
       "\n",
       "  Hair color Eye color Skin color  \\\n",
       "0    No Hair    yellow    Unknown   \n",
       "1    No Hair      blue       blue   \n",
       "2    No Hair      blue        red   \n",
       "3    No Hair     green    Unknown   \n",
       "4    No Hair      blue    Unknown   \n",
       "\n",
       "                                   Measurements  \n",
       "0  {'Height': '203.0 cm', 'Weight': '441.0 kg'}  \n",
       "1   {'Height': '191.0 cm', 'Weight': '65.0 kg'}  \n",
       "2   {'Height': '185.0 cm', 'Weight': '90.0 kg'}  \n",
       "3  {'Height': '203.0 cm', 'Weight': '441.0 kg'}  \n",
       "4  {'Height': '193.0 cm', 'Weight': '122.0 kg'}  "
      ]
     },
     "execution_count": 3,
     "metadata": {},
     "output_type": "execute_result"
    }
   ],
   "source": [
    "superhero_info = pd.read_csv('Data/superhero_info - superhero_info.csv')\n",
    "superhero_info.head()"
   ]
  },
  {
   "cell_type": "code",
   "execution_count": 4,
   "id": "1aecf832",
   "metadata": {},
   "outputs": [
    {
     "data": {
      "text/html": [
       "<div>\n",
       "<style scoped>\n",
       "    .dataframe tbody tr th:only-of-type {\n",
       "        vertical-align: middle;\n",
       "    }\n",
       "\n",
       "    .dataframe tbody tr th {\n",
       "        vertical-align: top;\n",
       "    }\n",
       "\n",
       "    .dataframe thead th {\n",
       "        text-align: right;\n",
       "    }\n",
       "</style>\n",
       "<table border=\"1\" class=\"dataframe\">\n",
       "  <thead>\n",
       "    <tr style=\"text-align: right;\">\n",
       "      <th></th>\n",
       "      <th>hero_names</th>\n",
       "      <th>Powers</th>\n",
       "    </tr>\n",
       "  </thead>\n",
       "  <tbody>\n",
       "    <tr>\n",
       "      <th>0</th>\n",
       "      <td>3-D Man</td>\n",
       "      <td>Agility,Super Strength,Stamina,Super Speed</td>\n",
       "    </tr>\n",
       "    <tr>\n",
       "      <th>1</th>\n",
       "      <td>A-Bomb</td>\n",
       "      <td>Accelerated Healing,Durability,Longevity,Super...</td>\n",
       "    </tr>\n",
       "    <tr>\n",
       "      <th>2</th>\n",
       "      <td>Abe Sapien</td>\n",
       "      <td>Agility,Accelerated Healing,Cold Resistance,Du...</td>\n",
       "    </tr>\n",
       "    <tr>\n",
       "      <th>3</th>\n",
       "      <td>Abin Sur</td>\n",
       "      <td>Lantern Power Ring</td>\n",
       "    </tr>\n",
       "    <tr>\n",
       "      <th>4</th>\n",
       "      <td>Abomination</td>\n",
       "      <td>Accelerated Healing,Intelligence,Super Strengt...</td>\n",
       "    </tr>\n",
       "  </tbody>\n",
       "</table>\n",
       "</div>"
      ],
      "text/plain": [
       "    hero_names                                             Powers\n",
       "0      3-D Man         Agility,Super Strength,Stamina,Super Speed\n",
       "1       A-Bomb  Accelerated Healing,Durability,Longevity,Super...\n",
       "2   Abe Sapien  Agility,Accelerated Healing,Cold Resistance,Du...\n",
       "3     Abin Sur                                 Lantern Power Ring\n",
       "4  Abomination  Accelerated Healing,Intelligence,Super Strengt..."
      ]
     },
     "execution_count": 4,
     "metadata": {},
     "output_type": "execute_result"
    }
   ],
   "source": [
    "superhero_powers = pd.read_csv('Data/superhero_powers - superhero_powers.csv')\n",
    "superhero_powers.head()"
   ]
  },
  {
   "cell_type": "code",
   "execution_count": 5,
   "id": "e3d062dc",
   "metadata": {},
   "outputs": [
    {
     "name": "stdout",
     "output_type": "stream",
     "text": [
      "<class 'pandas.core.frame.DataFrame'>\n",
      "RangeIndex: 463 entries, 0 to 462\n",
      "Data columns (total 8 columns):\n",
      " #   Column          Non-Null Count  Dtype \n",
      "---  ------          --------------  ----- \n",
      " 0   Hero|Publisher  463 non-null    object\n",
      " 1   Gender          463 non-null    object\n",
      " 2   Race            463 non-null    object\n",
      " 3   Alignment       463 non-null    object\n",
      " 4   Hair color      463 non-null    object\n",
      " 5   Eye color       463 non-null    object\n",
      " 6   Skin color      463 non-null    object\n",
      " 7   Measurements    463 non-null    object\n",
      "dtypes: object(8)\n",
      "memory usage: 29.1+ KB\n"
     ]
    }
   ],
   "source": [
    "superhero_info.info()"
   ]
  },
  {
   "cell_type": "code",
   "execution_count": 6,
   "id": "b6ed7dd7",
   "metadata": {},
   "outputs": [
    {
     "name": "stdout",
     "output_type": "stream",
     "text": [
      "<class 'pandas.core.frame.DataFrame'>\n",
      "RangeIndex: 667 entries, 0 to 666\n",
      "Data columns (total 2 columns):\n",
      " #   Column      Non-Null Count  Dtype \n",
      "---  ------      --------------  ----- \n",
      " 0   hero_names  667 non-null    object\n",
      " 1   Powers      667 non-null    object\n",
      "dtypes: object(2)\n",
      "memory usage: 10.5+ KB\n"
     ]
    }
   ],
   "source": [
    "superhero_powers.info()"
   ]
  },
  {
   "cell_type": "code",
   "execution_count": 7,
   "id": "70e3b355",
   "metadata": {},
   "outputs": [
    {
     "data": {
      "text/plain": [
       "Spider-Man|Marvel Comics       3\n",
       "Black Canary|DC Comics         2\n",
       "Nova|Marvel Comics             2\n",
       "Toxin|Marvel Comics            2\n",
       "Batman|DC Comics               2\n",
       "                              ..\n",
       "Fabian Cortez|Marvel Comics    1\n",
       "Exodus|Marvel Comics           1\n",
       "Evilhawk|Marvel Comics         1\n",
       "Evil Deadpool|Marvel Comics    1\n",
       "Zoom|DC Comics                 1\n",
       "Name: Hero|Publisher, Length: 457, dtype: int64"
      ]
     },
     "execution_count": 7,
     "metadata": {},
     "output_type": "execute_result"
    }
   ],
   "source": [
    "Hero_col =superhero_info['Hero|Publisher'].value_counts()\n",
    "Hero_col"
   ]
  },
  {
   "cell_type": "code",
   "execution_count": 8,
   "id": "658d3325",
   "metadata": {},
   "outputs": [
    {
     "data": {
      "text/plain": [
       "'Abe Sapien|Dark Horse Comics'"
      ]
     },
     "execution_count": 8,
     "metadata": {},
     "output_type": "execute_result"
    }
   ],
   "source": [
    "test_hero = superhero_info.loc[1,'Hero|Publisher']\n",
    "test_hero"
   ]
  },
  {
   "cell_type": "code",
   "execution_count": 9,
   "id": "2af965ab",
   "metadata": {},
   "outputs": [],
   "source": [
    "superhero_info[['Hero', 'Publisher']] = superhero_info['Hero|Publisher'].str.split(pat='|', n=1, expand=True)"
   ]
  },
  {
   "cell_type": "code",
   "execution_count": 10,
   "id": "e03b1435",
   "metadata": {},
   "outputs": [
    {
     "name": "stdout",
     "output_type": "stream",
     "text": [
      "<class 'pandas.core.frame.DataFrame'>\n",
      "RangeIndex: 463 entries, 0 to 462\n",
      "Data columns (total 10 columns):\n",
      " #   Column          Non-Null Count  Dtype \n",
      "---  ------          --------------  ----- \n",
      " 0   Hero|Publisher  463 non-null    object\n",
      " 1   Gender          463 non-null    object\n",
      " 2   Race            463 non-null    object\n",
      " 3   Alignment       463 non-null    object\n",
      " 4   Hair color      463 non-null    object\n",
      " 5   Eye color       463 non-null    object\n",
      " 6   Skin color      463 non-null    object\n",
      " 7   Measurements    463 non-null    object\n",
      " 8   Hero            463 non-null    object\n",
      " 9   Publisher       463 non-null    object\n",
      "dtypes: object(10)\n",
      "memory usage: 36.3+ KB\n"
     ]
    }
   ],
   "source": [
    "superhero_info.info()"
   ]
  },
  {
   "cell_type": "code",
   "execution_count": 11,
   "id": "46a6a7b0",
   "metadata": {},
   "outputs": [
    {
     "data": {
      "text/plain": [
       "Spider-Man        3\n",
       "Black Canary      2\n",
       "Nova              2\n",
       "Captain Marvel    2\n",
       "Toxin             2\n",
       "                 ..\n",
       "Feral             1\n",
       "Falcon            1\n",
       "Fabian Cortez     1\n",
       "Exodus            1\n",
       "Zoom              1\n",
       "Name: Hero, Length: 455, dtype: int64"
      ]
     },
     "execution_count": 11,
     "metadata": {},
     "output_type": "execute_result"
    }
   ],
   "source": [
    "superhero_info['Hero'].value_counts()"
   ]
  },
  {
   "cell_type": "code",
   "execution_count": 12,
   "id": "467a4694",
   "metadata": {},
   "outputs": [
    {
     "data": {
      "text/plain": [
       "Marvel Comics        297\n",
       "DC Comics            138\n",
       "Dark Horse Comics     11\n",
       "George Lucas           5\n",
       "Team Epic TV           4\n",
       "Shueisha               4\n",
       "Star Trek              2\n",
       "Unknown                1\n",
       "Image Comics           1\n",
       "Name: Publisher, dtype: int64"
      ]
     },
     "execution_count": 12,
     "metadata": {},
     "output_type": "execute_result"
    }
   ],
   "source": [
    "superhero_info['Publisher'].value_counts()"
   ]
  },
  {
   "cell_type": "code",
   "execution_count": 13,
   "id": "89611283",
   "metadata": {},
   "outputs": [],
   "source": [
    "superhero_info.drop(columns=['Hero|Publisher'], inplace=True)"
   ]
  },
  {
   "cell_type": "code",
   "execution_count": 14,
   "id": "4ea49a88",
   "metadata": {
    "scrolled": true
   },
   "outputs": [
    {
     "data": {
      "text/plain": [
       "1    204\n",
       "2     42\n",
       "4     14\n",
       "3     12\n",
       "6      8\n",
       "5      7\n",
       "Name: Measurements, dtype: int64"
      ]
     },
     "execution_count": 14,
     "metadata": {},
     "output_type": "execute_result"
    }
   ],
   "source": [
    "superhero_info['Measurements'].value_counts().value_counts()"
   ]
  },
  {
   "cell_type": "code",
   "execution_count": 15,
   "id": "9836cf5b",
   "metadata": {},
   "outputs": [
    {
     "data": {
      "text/plain": [
       "\"{'Height': '191.0 cm', 'Weight': '65.0 kg'}\""
      ]
     },
     "execution_count": 15,
     "metadata": {},
     "output_type": "execute_result"
    }
   ],
   "source": [
    "test_measure = superhero_info.loc[1,'Measurements']\n",
    "test_measure"
   ]
  },
  {
   "cell_type": "code",
   "execution_count": 16,
   "id": "42815419",
   "metadata": {},
   "outputs": [
    {
     "data": {
      "text/plain": [
       "str"
      ]
     },
     "execution_count": 16,
     "metadata": {},
     "output_type": "execute_result"
    }
   ],
   "source": [
    "type(test_measure)"
   ]
  },
  {
   "cell_type": "code",
   "execution_count": 17,
   "id": "7819636a",
   "metadata": {},
   "outputs": [
    {
     "data": {
      "text/plain": [
       "'{\"Height\": \"191.0 cm\", \"Weight\": \"65.0 kg\"}'"
      ]
     },
     "execution_count": 17,
     "metadata": {},
     "output_type": "execute_result"
    }
   ],
   "source": [
    "test_measure = test_measure.replace(\"'\", '\"')\n",
    "test_measure "
   ]
  },
  {
   "cell_type": "code",
   "execution_count": 18,
   "id": "376f4baf",
   "metadata": {},
   "outputs": [
    {
     "data": {
      "text/plain": [
       "{'Height': '191.0 cm', 'Weight': '65.0 kg'}"
      ]
     },
     "execution_count": 18,
     "metadata": {},
     "output_type": "execute_result"
    }
   ],
   "source": [
    "json.loads(test_measure)"
   ]
  },
  {
   "cell_type": "code",
   "execution_count": 19,
   "id": "259d7b6a",
   "metadata": {},
   "outputs": [
    {
     "data": {
      "text/plain": [
       "dict"
      ]
     },
     "execution_count": 19,
     "metadata": {},
     "output_type": "execute_result"
    }
   ],
   "source": [
    "type(json.loads(test_measure))"
   ]
  },
  {
   "cell_type": "code",
   "execution_count": 20,
   "id": "84920c79",
   "metadata": {},
   "outputs": [],
   "source": [
    "superhero_info['Measurements'] = superhero_info['Measurements'].str.replace(\"'\", '\"')\n",
    "superhero_info['Measurements'] = superhero_info['Measurements'].apply(json.loads)"
   ]
  },
  {
   "cell_type": "code",
   "execution_count": 21,
   "id": "96c6e03a",
   "metadata": {
    "scrolled": true
   },
   "outputs": [
    {
     "data": {
      "text/html": [
       "<div>\n",
       "<style scoped>\n",
       "    .dataframe tbody tr th:only-of-type {\n",
       "        vertical-align: middle;\n",
       "    }\n",
       "\n",
       "    .dataframe tbody tr th {\n",
       "        vertical-align: top;\n",
       "    }\n",
       "\n",
       "    .dataframe thead th {\n",
       "        text-align: right;\n",
       "    }\n",
       "</style>\n",
       "<table border=\"1\" class=\"dataframe\">\n",
       "  <thead>\n",
       "    <tr style=\"text-align: right;\">\n",
       "      <th></th>\n",
       "      <th>Height</th>\n",
       "      <th>Weight</th>\n",
       "    </tr>\n",
       "  </thead>\n",
       "  <tbody>\n",
       "    <tr>\n",
       "      <th>0</th>\n",
       "      <td>203.0 cm</td>\n",
       "      <td>441.0 kg</td>\n",
       "    </tr>\n",
       "    <tr>\n",
       "      <th>1</th>\n",
       "      <td>191.0 cm</td>\n",
       "      <td>65.0 kg</td>\n",
       "    </tr>\n",
       "    <tr>\n",
       "      <th>2</th>\n",
       "      <td>185.0 cm</td>\n",
       "      <td>90.0 kg</td>\n",
       "    </tr>\n",
       "    <tr>\n",
       "      <th>3</th>\n",
       "      <td>203.0 cm</td>\n",
       "      <td>441.0 kg</td>\n",
       "    </tr>\n",
       "    <tr>\n",
       "      <th>4</th>\n",
       "      <td>193.0 cm</td>\n",
       "      <td>122.0 kg</td>\n",
       "    </tr>\n",
       "    <tr>\n",
       "      <th>...</th>\n",
       "      <td>...</td>\n",
       "      <td>...</td>\n",
       "    </tr>\n",
       "    <tr>\n",
       "      <th>458</th>\n",
       "      <td>183.0 cm</td>\n",
       "      <td>83.0 kg</td>\n",
       "    </tr>\n",
       "    <tr>\n",
       "      <th>459</th>\n",
       "      <td>165.0 cm</td>\n",
       "      <td>52.0 kg</td>\n",
       "    </tr>\n",
       "    <tr>\n",
       "      <th>460</th>\n",
       "      <td>66.0 cm</td>\n",
       "      <td>17.0 kg</td>\n",
       "    </tr>\n",
       "    <tr>\n",
       "      <th>461</th>\n",
       "      <td>170.0 cm</td>\n",
       "      <td>57.0 kg</td>\n",
       "    </tr>\n",
       "    <tr>\n",
       "      <th>462</th>\n",
       "      <td>185.0 cm</td>\n",
       "      <td>81.0 kg</td>\n",
       "    </tr>\n",
       "  </tbody>\n",
       "</table>\n",
       "<p>463 rows × 2 columns</p>\n",
       "</div>"
      ],
      "text/plain": [
       "       Height    Weight\n",
       "0    203.0 cm  441.0 kg\n",
       "1    191.0 cm   65.0 kg\n",
       "2    185.0 cm   90.0 kg\n",
       "3    203.0 cm  441.0 kg\n",
       "4    193.0 cm  122.0 kg\n",
       "..        ...       ...\n",
       "458  183.0 cm   83.0 kg\n",
       "459  165.0 cm   52.0 kg\n",
       "460   66.0 cm   17.0 kg\n",
       "461  170.0 cm   57.0 kg\n",
       "462  185.0 cm   81.0 kg\n",
       "\n",
       "[463 rows x 2 columns]"
      ]
     },
     "execution_count": 21,
     "metadata": {},
     "output_type": "execute_result"
    }
   ],
   "source": [
    "superhero_info['Measurements'].apply(pd.Series)"
   ]
  },
  {
   "cell_type": "code",
   "execution_count": 22,
   "id": "100fdb9f",
   "metadata": {},
   "outputs": [
    {
     "data": {
      "text/html": [
       "<div>\n",
       "<style scoped>\n",
       "    .dataframe tbody tr th:only-of-type {\n",
       "        vertical-align: middle;\n",
       "    }\n",
       "\n",
       "    .dataframe tbody tr th {\n",
       "        vertical-align: top;\n",
       "    }\n",
       "\n",
       "    .dataframe thead th {\n",
       "        text-align: right;\n",
       "    }\n",
       "</style>\n",
       "<table border=\"1\" class=\"dataframe\">\n",
       "  <thead>\n",
       "    <tr style=\"text-align: right;\">\n",
       "      <th></th>\n",
       "      <th>Gender</th>\n",
       "      <th>Race</th>\n",
       "      <th>Alignment</th>\n",
       "      <th>Hair color</th>\n",
       "      <th>Eye color</th>\n",
       "      <th>Skin color</th>\n",
       "      <th>Measurements</th>\n",
       "      <th>Hero</th>\n",
       "      <th>Publisher</th>\n",
       "      <th>Height</th>\n",
       "      <th>Weight</th>\n",
       "    </tr>\n",
       "  </thead>\n",
       "  <tbody>\n",
       "    <tr>\n",
       "      <th>0</th>\n",
       "      <td>Male</td>\n",
       "      <td>Human</td>\n",
       "      <td>good</td>\n",
       "      <td>No Hair</td>\n",
       "      <td>yellow</td>\n",
       "      <td>Unknown</td>\n",
       "      <td>{'Height': '203.0 cm', 'Weight': '441.0 kg'}</td>\n",
       "      <td>A-Bomb</td>\n",
       "      <td>Marvel Comics</td>\n",
       "      <td>203.0 cm</td>\n",
       "      <td>441.0 kg</td>\n",
       "    </tr>\n",
       "    <tr>\n",
       "      <th>1</th>\n",
       "      <td>Male</td>\n",
       "      <td>Icthyo Sapien</td>\n",
       "      <td>good</td>\n",
       "      <td>No Hair</td>\n",
       "      <td>blue</td>\n",
       "      <td>blue</td>\n",
       "      <td>{'Height': '191.0 cm', 'Weight': '65.0 kg'}</td>\n",
       "      <td>Abe Sapien</td>\n",
       "      <td>Dark Horse Comics</td>\n",
       "      <td>191.0 cm</td>\n",
       "      <td>65.0 kg</td>\n",
       "    </tr>\n",
       "  </tbody>\n",
       "</table>\n",
       "</div>"
      ],
      "text/plain": [
       "  Gender           Race Alignment Hair color Eye color Skin color  \\\n",
       "0   Male          Human      good    No Hair    yellow    Unknown   \n",
       "1   Male  Icthyo Sapien      good    No Hair      blue       blue   \n",
       "\n",
       "                                   Measurements        Hero  \\\n",
       "0  {'Height': '203.0 cm', 'Weight': '441.0 kg'}      A-Bomb   \n",
       "1   {'Height': '191.0 cm', 'Weight': '65.0 kg'}  Abe Sapien   \n",
       "\n",
       "           Publisher    Height    Weight  \n",
       "0      Marvel Comics  203.0 cm  441.0 kg  \n",
       "1  Dark Horse Comics  191.0 cm   65.0 kg  "
      ]
     },
     "execution_count": 22,
     "metadata": {},
     "output_type": "execute_result"
    }
   ],
   "source": [
    "superhero_info = pd.concat([superhero_info, superhero_info['Measurements'].apply(pd.Series)], axis = 1)\n",
    "\n",
    "superhero_info.head(2)"
   ]
  },
  {
   "cell_type": "code",
   "execution_count": 23,
   "id": "4f65d5c5",
   "metadata": {},
   "outputs": [
    {
     "data": {
      "text/html": [
       "<div>\n",
       "<style scoped>\n",
       "    .dataframe tbody tr th:only-of-type {\n",
       "        vertical-align: middle;\n",
       "    }\n",
       "\n",
       "    .dataframe tbody tr th {\n",
       "        vertical-align: top;\n",
       "    }\n",
       "\n",
       "    .dataframe thead th {\n",
       "        text-align: right;\n",
       "    }\n",
       "</style>\n",
       "<table border=\"1\" class=\"dataframe\">\n",
       "  <thead>\n",
       "    <tr style=\"text-align: right;\">\n",
       "      <th></th>\n",
       "      <th>Gender</th>\n",
       "      <th>Race</th>\n",
       "      <th>Alignment</th>\n",
       "      <th>Hair color</th>\n",
       "      <th>Eye color</th>\n",
       "      <th>Skin color</th>\n",
       "      <th>Hero</th>\n",
       "      <th>Publisher</th>\n",
       "      <th>Height</th>\n",
       "      <th>Weight</th>\n",
       "    </tr>\n",
       "  </thead>\n",
       "  <tbody>\n",
       "    <tr>\n",
       "      <th>0</th>\n",
       "      <td>Male</td>\n",
       "      <td>Human</td>\n",
       "      <td>good</td>\n",
       "      <td>No Hair</td>\n",
       "      <td>yellow</td>\n",
       "      <td>Unknown</td>\n",
       "      <td>A-Bomb</td>\n",
       "      <td>Marvel Comics</td>\n",
       "      <td>203.0 cm</td>\n",
       "      <td>441.0 kg</td>\n",
       "    </tr>\n",
       "    <tr>\n",
       "      <th>1</th>\n",
       "      <td>Male</td>\n",
       "      <td>Icthyo Sapien</td>\n",
       "      <td>good</td>\n",
       "      <td>No Hair</td>\n",
       "      <td>blue</td>\n",
       "      <td>blue</td>\n",
       "      <td>Abe Sapien</td>\n",
       "      <td>Dark Horse Comics</td>\n",
       "      <td>191.0 cm</td>\n",
       "      <td>65.0 kg</td>\n",
       "    </tr>\n",
       "  </tbody>\n",
       "</table>\n",
       "</div>"
      ],
      "text/plain": [
       "  Gender           Race Alignment Hair color Eye color Skin color        Hero  \\\n",
       "0   Male          Human      good    No Hair    yellow    Unknown      A-Bomb   \n",
       "1   Male  Icthyo Sapien      good    No Hair      blue       blue  Abe Sapien   \n",
       "\n",
       "           Publisher    Height    Weight  \n",
       "0      Marvel Comics  203.0 cm  441.0 kg  \n",
       "1  Dark Horse Comics  191.0 cm   65.0 kg  "
      ]
     },
     "execution_count": 23,
     "metadata": {},
     "output_type": "execute_result"
    }
   ],
   "source": [
    "superhero_info.drop(columns=['Measurements'], inplace=True)\n",
    "superhero_info.head(2)"
   ]
  },
  {
   "cell_type": "code",
   "execution_count": 24,
   "id": "4f585f00",
   "metadata": {},
   "outputs": [
    {
     "name": "stdout",
     "output_type": "stream",
     "text": [
      "<class 'pandas.core.frame.DataFrame'>\n",
      "RangeIndex: 463 entries, 0 to 462\n",
      "Data columns (total 10 columns):\n",
      " #   Column      Non-Null Count  Dtype \n",
      "---  ------      --------------  ----- \n",
      " 0   Gender      463 non-null    object\n",
      " 1   Race        463 non-null    object\n",
      " 2   Alignment   463 non-null    object\n",
      " 3   Hair color  463 non-null    object\n",
      " 4   Eye color   463 non-null    object\n",
      " 5   Skin color  463 non-null    object\n",
      " 6   Hero        463 non-null    object\n",
      " 7   Publisher   463 non-null    object\n",
      " 8   Height      463 non-null    object\n",
      " 9   Weight      463 non-null    object\n",
      "dtypes: object(10)\n",
      "memory usage: 36.3+ KB\n"
     ]
    }
   ],
   "source": [
    "superhero_info.info()"
   ]
  },
  {
   "cell_type": "code",
   "execution_count": 27,
   "id": "4bbcc9cf",
   "metadata": {},
   "outputs": [],
   "source": [
    "superhero_info['Height'] = superhero_info['Height'].str.replace(' cm', '').astype(float)\n",
    "\n",
    "superhero_info['Weight'] = superhero_info['Weight'].str.replace(' kg', '').astype(float)\n"
   ]
  },
  {
   "cell_type": "code",
   "execution_count": 28,
   "id": "ca9f4388",
   "metadata": {},
   "outputs": [
    {
     "name": "stdout",
     "output_type": "stream",
     "text": [
      "<class 'pandas.core.frame.DataFrame'>\n",
      "RangeIndex: 463 entries, 0 to 462\n",
      "Data columns (total 10 columns):\n",
      " #   Column      Non-Null Count  Dtype  \n",
      "---  ------      --------------  -----  \n",
      " 0   Gender      463 non-null    object \n",
      " 1   Race        463 non-null    object \n",
      " 2   Alignment   463 non-null    object \n",
      " 3   Hair color  463 non-null    object \n",
      " 4   Eye color   463 non-null    object \n",
      " 5   Skin color  463 non-null    object \n",
      " 6   Hero        463 non-null    object \n",
      " 7   Publisher   463 non-null    object \n",
      " 8   Height      463 non-null    float64\n",
      " 9   Weight      463 non-null    float64\n",
      "dtypes: float64(2), object(8)\n",
      "memory usage: 36.3+ KB\n"
     ]
    }
   ],
   "source": [
    "superhero_info.info()"
   ]
  },
  {
   "cell_type": "code",
   "execution_count": 32,
   "id": "9b2ab27a",
   "metadata": {
    "scrolled": true
   },
   "outputs": [
    {
     "data": {
      "text/html": [
       "<div>\n",
       "<style scoped>\n",
       "    .dataframe tbody tr th:only-of-type {\n",
       "        vertical-align: middle;\n",
       "    }\n",
       "\n",
       "    .dataframe tbody tr th {\n",
       "        vertical-align: top;\n",
       "    }\n",
       "\n",
       "    .dataframe thead th {\n",
       "        text-align: right;\n",
       "    }\n",
       "</style>\n",
       "<table border=\"1\" class=\"dataframe\">\n",
       "  <thead>\n",
       "    <tr style=\"text-align: right;\">\n",
       "      <th></th>\n",
       "      <th>hero_names</th>\n",
       "      <th>Powers</th>\n",
       "    </tr>\n",
       "  </thead>\n",
       "  <tbody>\n",
       "    <tr>\n",
       "      <th>0</th>\n",
       "      <td>3-D Man</td>\n",
       "      <td>Agility,Super Strength,Stamina,Super Speed</td>\n",
       "    </tr>\n",
       "    <tr>\n",
       "      <th>1</th>\n",
       "      <td>A-Bomb</td>\n",
       "      <td>Accelerated Healing,Durability,Longevity,Super...</td>\n",
       "    </tr>\n",
       "    <tr>\n",
       "      <th>2</th>\n",
       "      <td>Abe Sapien</td>\n",
       "      <td>Agility,Accelerated Healing,Cold Resistance,Du...</td>\n",
       "    </tr>\n",
       "    <tr>\n",
       "      <th>3</th>\n",
       "      <td>Abin Sur</td>\n",
       "      <td>Lantern Power Ring</td>\n",
       "    </tr>\n",
       "    <tr>\n",
       "      <th>4</th>\n",
       "      <td>Abomination</td>\n",
       "      <td>Accelerated Healing,Intelligence,Super Strengt...</td>\n",
       "    </tr>\n",
       "  </tbody>\n",
       "</table>\n",
       "</div>"
      ],
      "text/plain": [
       "    hero_names                                             Powers\n",
       "0      3-D Man         Agility,Super Strength,Stamina,Super Speed\n",
       "1       A-Bomb  Accelerated Healing,Durability,Longevity,Super...\n",
       "2   Abe Sapien  Agility,Accelerated Healing,Cold Resistance,Du...\n",
       "3     Abin Sur                                 Lantern Power Ring\n",
       "4  Abomination  Accelerated Healing,Intelligence,Super Strengt..."
      ]
     },
     "execution_count": 32,
     "metadata": {},
     "output_type": "execute_result"
    }
   ],
   "source": [
    "superhero_powers.head()"
   ]
  },
  {
   "cell_type": "code",
   "execution_count": 44,
   "id": "a6b1beac",
   "metadata": {
    "scrolled": false
   },
   "outputs": [
    {
     "data": {
      "text/plain": [
       "[\"Intelligence\"]                                                                                                                                                                                                                                                                                                            8\n",
       "[\"Durability\", \"Super Strength\"]                                                                                                                                                                                                                                                                                            5\n",
       "[\"Agility\", \"Stealth\", \"Marksmanship\", \"Weapons Master\", \"Stamina\"]                                                                                                                                                                                                                                                         4\n",
       "[\"Marksmanship\"]                                                                                                                                                                                                                                                                                                            4\n",
       "[\"Teleportation\"]                                                                                                                                                                                                                                                                                                           4\n",
       "                                                                                                                                                                                                                                                                                                                           ..\n",
       "[\"Accelerated Healing\", \"Flight\", \"Telepathy\", \"Energy Blasts\", \"Teleportation\", \"Telekinesis\", \"Astral Projection\", \"Psionic Powers\", \"Mind Blast\", \"Regeneration\", \"Illusions\", \"Resurrection\"]                                                                                                                           1\n",
       "[\"Flight\", \"Telepathy\", \"Animal Oriented Powers\", \"Gliding\"]                                                                                                                                                                                                                                                                1\n",
       "[\"Accelerated Healing\", \"Durability\", \"Energy Absorption\", \"Flight\", \"Super Strength\", \"Telepathy\", \"Energy Blasts\", \"Size Changing\", \"Super Speed\", \"Darkforce Manipulation\", \"Enhanced Senses\", \"Phasing\", \"Invulnerability\", \"Self-Sustenance\", \"Gravity Control\", \"Energy Manipulation\", \"Time Travel\", \"Illusions\"]    1\n",
       "[\"Agility\", \"Accelerated Healing\", \"Super Strength\", \"Super Speed\", \"Animal Oriented Powers\", \"Enhanced Senses\", \"Jump\", \"Reflexes\", \"Natural Weapons\"]                                                                                                                                                                     1\n",
       "[\"Super Speed\", \"Intangibility\", \"Time Travel\", \"Time Manipulation\"]                                                                                                                                                                                                                                                        1\n",
       "Name: Powers, Length: 608, dtype: int64"
      ]
     },
     "execution_count": 44,
     "metadata": {},
     "output_type": "execute_result"
    }
   ],
   "source": [
    "superhero_powers['Powers'].value_counts()"
   ]
  },
  {
   "cell_type": "code",
   "execution_count": 50,
   "id": "3f203771",
   "metadata": {},
   "outputs": [
    {
     "data": {
      "text/plain": [
       "'[\"Accelerated Healing\", \"Durability\", \"Danger Sense\", \"Super Strength\", \"Stamina\", \"Enhanced Senses\", \"Shapeshifting\", \"Camouflage\", \"Reflexes\", \"Elasticity\", \"Toxin and Disease Resistance\", \"Wallcrawling\", \"Web Creation\", \"Symbiote Costume\"]'"
      ]
     },
     "execution_count": 50,
     "metadata": {},
     "output_type": "execute_result"
    }
   ],
   "source": [
    "test_powers = superhero_powers.loc[31, 'Powers']\n",
    "test_powers"
   ]
  },
  {
   "cell_type": "code",
   "execution_count": 46,
   "id": "b46e98ba",
   "metadata": {},
   "outputs": [
    {
     "data": {
      "text/plain": [
       "str"
      ]
     },
     "execution_count": 46,
     "metadata": {},
     "output_type": "execute_result"
    }
   ],
   "source": [
    "type(test_powers)"
   ]
  },
  {
   "cell_type": "code",
   "execution_count": 54,
   "id": "b46e57c6",
   "metadata": {},
   "outputs": [
    {
     "data": {
      "text/plain": [
       "'[\"Accelerated Healing\", \"Durability\", \"Danger Sense\", \"Super Strength\", \"Stamina\", \"Enhanced Senses\", \"Shapeshifting\", \"Camouflage\", \"Reflexes\", \"Elasticity\", \"Toxin and Disease Resistance\", \"Wallcrawling\", \"Web Creation\", \"Symbiote Costume\"]'"
      ]
     },
     "execution_count": 54,
     "metadata": {},
     "output_type": "execute_result"
    }
   ],
   "source": [
    "saved_test = test_powers.replace(\"'\",'\"')\n",
    "saved_test"
   ]
  },
  {
   "cell_type": "code",
   "execution_count": 55,
   "id": "9a36cd5e",
   "metadata": {
    "scrolled": true
   },
   "outputs": [
    {
     "data": {
      "text/plain": [
       "['Accelerated Healing',\n",
       " 'Durability',\n",
       " 'Danger Sense',\n",
       " 'Super Strength',\n",
       " 'Stamina',\n",
       " 'Enhanced Senses',\n",
       " 'Shapeshifting',\n",
       " 'Camouflage',\n",
       " 'Reflexes',\n",
       " 'Elasticity',\n",
       " 'Toxin and Disease Resistance',\n",
       " 'Wallcrawling',\n",
       " 'Web Creation',\n",
       " 'Symbiote Costume']"
      ]
     },
     "execution_count": 55,
     "metadata": {},
     "output_type": "execute_result"
    }
   ],
   "source": [
    "json.loads(saved_test)"
   ]
  },
  {
   "cell_type": "code",
   "execution_count": 56,
   "id": "8ced62a6",
   "metadata": {},
   "outputs": [
    {
     "name": "stderr",
     "output_type": "stream",
     "text": [
      "/var/folders/2t/ty56pl2n2m7dps7c3szdtl7w0000gn/T/ipykernel_13024/366053189.py:4: PerformanceWarning: DataFrame is highly fragmented.  This is usually the result of calling `frame.insert` many times, which has poor performance.  Consider joining all columns at once using pd.concat(axis=1) instead. To get a de-fragmented frame, use `newframe = frame.copy()`\n",
      "  superhero_powers['Powers_split'] = superhero_powers['Powers'].str.replace(\"'\", '\"')\n"
     ]
    },
    {
     "data": {
      "text/plain": [
       "0      [Agility, Super Strength, Stamina, Super Speed]\n",
       "1    [Accelerated Healing, Durability, Longevity, S...\n",
       "2    [Agility, Accelerated Healing, Cold Resistance...\n",
       "3                                 [Lantern Power Ring]\n",
       "4    [Accelerated Healing, Intelligence, Super Stre...\n",
       "Name: Powers_split, dtype: object"
      ]
     },
     "execution_count": 56,
     "metadata": {},
     "output_type": "execute_result"
    }
   ],
   "source": [
    "# Applying transformations to entire column\n",
    "\n",
    "# Create a new column where the single quotes are replaced with double quotes\n",
    "superhero_powers['Powers_split'] = superhero_powers['Powers'].str.replace(\"'\", '\"')\n",
    "# Apply json.loads to entire column\n",
    "superhero_powers['Powers_split'] = superhero_powers['Powers_split'].apply(json.loads)\n",
    "superhero_powers['Powers_split'].head()"
   ]
  },
  {
   "cell_type": "code",
   "execution_count": 57,
   "id": "b3339751",
   "metadata": {},
   "outputs": [
    {
     "data": {
      "text/plain": [
       "[Intelligence]                                                                                                                                                                                                                                                                          8\n",
       "[Durability, Super Strength]                                                                                                                                                                                                                                                            5\n",
       "[Agility, Stealth, Marksmanship, Weapons Master, Stamina]                                                                                                                                                                                                                               4\n",
       "[Marksmanship]                                                                                                                                                                                                                                                                          4\n",
       "[Teleportation]                                                                                                                                                                                                                                                                         4\n",
       "                                                                                                                                                                                                                                                                                       ..\n",
       "[Accelerated Healing, Flight, Telepathy, Energy Blasts, Teleportation, Telekinesis, Astral Projection, Psionic Powers, Mind Blast, Regeneration, Illusions, Resurrection]                                                                                                               1\n",
       "[Flight, Telepathy, Animal Oriented Powers, Gliding]                                                                                                                                                                                                                                    1\n",
       "[Accelerated Healing, Durability, Energy Absorption, Flight, Super Strength, Telepathy, Energy Blasts, Size Changing, Super Speed, Darkforce Manipulation, Enhanced Senses, Phasing, Invulnerability, Self-Sustenance, Gravity Control, Energy Manipulation, Time Travel, Illusions]    1\n",
       "[Agility, Accelerated Healing, Super Strength, Super Speed, Animal Oriented Powers, Enhanced Senses, Jump, Reflexes, Natural Weapons]                                                                                                                                                   1\n",
       "[Super Speed, Intangibility, Time Travel, Time Manipulation]                                                                                                                                                                                                                            1\n",
       "Name: Powers_split, Length: 608, dtype: int64"
      ]
     },
     "execution_count": 57,
     "metadata": {},
     "output_type": "execute_result"
    }
   ],
   "source": [
    "superhero_powers['Powers_split'].value_counts()"
   ]
  },
  {
   "cell_type": "code",
   "execution_count": 60,
   "id": "9c8561d6",
   "metadata": {},
   "outputs": [
    {
     "data": {
      "text/html": [
       "<div>\n",
       "<style scoped>\n",
       "    .dataframe tbody tr th:only-of-type {\n",
       "        vertical-align: middle;\n",
       "    }\n",
       "\n",
       "    .dataframe tbody tr th {\n",
       "        vertical-align: top;\n",
       "    }\n",
       "\n",
       "    .dataframe thead th {\n",
       "        text-align: right;\n",
       "    }\n",
       "</style>\n",
       "<table border=\"1\" class=\"dataframe\">\n",
       "  <thead>\n",
       "    <tr style=\"text-align: right;\">\n",
       "      <th></th>\n",
       "      <th>hero_names</th>\n",
       "      <th>Powers</th>\n",
       "      <th>Powers_split</th>\n",
       "    </tr>\n",
       "  </thead>\n",
       "  <tbody>\n",
       "    <tr>\n",
       "      <th>0</th>\n",
       "      <td>3-D Man</td>\n",
       "      <td>[\"Agility\", \"Super Strength\", \"Stamina\", \"Supe...</td>\n",
       "      <td>Agility</td>\n",
       "    </tr>\n",
       "    <tr>\n",
       "      <th>0</th>\n",
       "      <td>3-D Man</td>\n",
       "      <td>[\"Agility\", \"Super Strength\", \"Stamina\", \"Supe...</td>\n",
       "      <td>Super Strength</td>\n",
       "    </tr>\n",
       "    <tr>\n",
       "      <th>0</th>\n",
       "      <td>3-D Man</td>\n",
       "      <td>[\"Agility\", \"Super Strength\", \"Stamina\", \"Supe...</td>\n",
       "      <td>Stamina</td>\n",
       "    </tr>\n",
       "    <tr>\n",
       "      <th>0</th>\n",
       "      <td>3-D Man</td>\n",
       "      <td>[\"Agility\", \"Super Strength\", \"Stamina\", \"Supe...</td>\n",
       "      <td>Super Speed</td>\n",
       "    </tr>\n",
       "    <tr>\n",
       "      <th>1</th>\n",
       "      <td>A-Bomb</td>\n",
       "      <td>[\"Accelerated Healing\", \"Durability\", \"Longevi...</td>\n",
       "      <td>Accelerated Healing</td>\n",
       "    </tr>\n",
       "  </tbody>\n",
       "</table>\n",
       "</div>"
      ],
      "text/plain": [
       "  hero_names                                             Powers  \\\n",
       "0    3-D Man  [\"Agility\", \"Super Strength\", \"Stamina\", \"Supe...   \n",
       "0    3-D Man  [\"Agility\", \"Super Strength\", \"Stamina\", \"Supe...   \n",
       "0    3-D Man  [\"Agility\", \"Super Strength\", \"Stamina\", \"Supe...   \n",
       "0    3-D Man  [\"Agility\", \"Super Strength\", \"Stamina\", \"Supe...   \n",
       "1     A-Bomb  [\"Accelerated Healing\", \"Durability\", \"Longevi...   \n",
       "\n",
       "          Powers_split  \n",
       "0              Agility  \n",
       "0       Super Strength  \n",
       "0              Stamina  \n",
       "0          Super Speed  \n",
       "1  Accelerated Healing  "
      ]
     },
     "execution_count": 60,
     "metadata": {},
     "output_type": "execute_result"
    }
   ],
   "source": [
    "# Converting transactions column into a one-hot-encoded column\n",
    "exploded = superhero_powers.explode('Powers_split')\n",
    "exploded[['hero_names', 'Powers', 'Powers_split']].head()"
   ]
  },
  {
   "cell_type": "code",
   "execution_count": 66,
   "id": "2df306e4",
   "metadata": {},
   "outputs": [
    {
     "data": {
      "text/plain": [
       "array(['Agility', 'Super Strength', 'Stamina', 'Super Speed',\n",
       "       'Accelerated Healing', 'Durability', 'Longevity', 'Camouflage',\n",
       "       'Self-Sustenance', 'Cold Resistance', 'Underwater breathing',\n",
       "       'Marksmanship', 'Weapons Master', 'Intelligence', 'Telepathy',\n",
       "       'Immortality', 'Reflexes', 'Enhanced Sight', 'Sub-Mariner',\n",
       "       'Lantern Power Ring', 'Invulnerability', 'Animation',\n",
       "       'Super Breath', 'Dimensional Awareness', 'Flight', 'Size Changing',\n",
       "       'Teleportation', 'Magic', 'Dimensional Travel',\n",
       "       'Molecular Manipulation', 'Energy Manipulation', 'Power Cosmic',\n",
       "       'Energy Absorption', 'Elemental Transmogrification',\n",
       "       'Fire Resistance', 'Natural Armor', 'Heat Resistance',\n",
       "       'Matter Absorption', 'Regeneration', 'Stealth', 'Power Suit',\n",
       "       'Energy Blasts', 'Energy Beams', 'Heat Generation', 'Danger Sense',\n",
       "       'Phasing', 'Force Fields', 'Hypnokinesis', 'Invisibility',\n",
       "       'Enhanced Senses', 'Jump', 'Shapeshifting', 'Elasticity',\n",
       "       'Substance Secretion', 'Enhanced Hearing', 'Adaptation', 'Gliding',\n",
       "       'Natural Weapons', 'Wallcrawling', 'Vision - Thermal',\n",
       "       'Power Augmentation', 'Cryokinesis', 'Duplication',\n",
       "       'Weapon-based Powers', 'Fire Control', 'Enhanced Memory',\n",
       "       'Energy Constructs', 'Power Absorption', 'Time Travel',\n",
       "       'Enhanced Smell', 'Water Control', 'Vision - Telescopic',\n",
       "       'Magnetism', 'Vision - Microscopic', 'Vision - Night',\n",
       "       'Vision - Heat', 'Vision - X-Ray', 'Psionic Powers',\n",
       "       'Toxin and Disease Resistance', 'Animal Attributes',\n",
       "       'Animal Oriented Powers', 'Toxin and Disease Control', 'Empathy',\n",
       "       'Animal Control', 'Darkforce Manipulation', 'Time Manipulation',\n",
       "       'Reality Warping', 'Web Creation', 'Symbiote Costume',\n",
       "       'Telekinesis', 'Levitation', 'Biokinesis', 'Sonar',\n",
       "       'Enhanced Touch', 'Seismic Power', 'Energy Armor',\n",
       "       'Omnilingualism', 'Radiation Immunity', 'Density Control',\n",
       "       'Light Control', 'Illumination', 'Molecular Combustion',\n",
       "       'Astral Travel', 'Precognition', 'Intangibility', 'Illusions',\n",
       "       'Audio Control', 'Sonic Scream', 'Peak Human Condition',\n",
       "       'Vision - Infrared', 'Dexterity', 'Omnitrix', 'Omnipotent',\n",
       "       'Possession', 'Energy Resistance', 'Vision - Cryo', 'Mind Control',\n",
       "       'Mind Blast', 'Clairvoyance', 'Probability Manipulation',\n",
       "       'Death Touch', 'Electrokinesis', 'Gravity Control',\n",
       "       'Technopath/Cyberpath', 'Radar Sense', 'Astral Projection',\n",
       "       'Cloaking', 'Telepathy Resistance', 'Mind Control Resistance',\n",
       "       'Hyperkinesis', 'Spatial Awareness', 'Radiation Control',\n",
       "       'Radiation Absorption', 'Magic Resistance', 'Element Control',\n",
       "       'Plant Control', 'Terrakinesis', 'Power Sense', 'Wind Control',\n",
       "       'Qwardian Power Ring', 'Echolocation', 'Resurrection', 'The Force',\n",
       "       'Summoning', 'Banish', 'Molecular Dissipation',\n",
       "       'Electrical Transport', 'Speed Force', 'Grim Reaping',\n",
       "       'Portal Creation', 'Vitakinesis', 'Projection', 'Insanity',\n",
       "       'Photographic Reflexes', 'Anti-Gravity', 'Thirstokinesis',\n",
       "       'Power Nullifier', 'Weather Control', 'Omnipresent', 'Omniscient',\n",
       "       'Hair Manipulation', 'Nova Force', 'Odin Force', 'Phoenix Force',\n",
       "       'Intuitive aptitude', 'Melting', 'Changing Armor'], dtype=object)"
      ]
     },
     "execution_count": 66,
     "metadata": {},
     "output_type": "execute_result"
    }
   ],
   "source": [
    "cols_to_make = exploded['Powers_split'].dropna().unique()\n",
    "cols_to_make"
   ]
  },
  {
   "cell_type": "code",
   "execution_count": 68,
   "id": "1a68b5b9",
   "metadata": {},
   "outputs": [],
   "source": [
    "superhero_powers.drop(columns=['Powers_split'], inplace=True)\n"
   ]
  },
  {
   "cell_type": "code",
   "execution_count": 69,
   "id": "d88bad81",
   "metadata": {},
   "outputs": [
    {
     "data": {
      "text/html": [
       "<div>\n",
       "<style scoped>\n",
       "    .dataframe tbody tr th:only-of-type {\n",
       "        vertical-align: middle;\n",
       "    }\n",
       "\n",
       "    .dataframe tbody tr th {\n",
       "        vertical-align: top;\n",
       "    }\n",
       "\n",
       "    .dataframe thead th {\n",
       "        text-align: right;\n",
       "    }\n",
       "</style>\n",
       "<table border=\"1\" class=\"dataframe\">\n",
       "  <thead>\n",
       "    <tr style=\"text-align: right;\">\n",
       "      <th></th>\n",
       "      <th>hero_names</th>\n",
       "      <th>Powers</th>\n",
       "      <th>Power Absorption</th>\n",
       "      <th>Cloaking</th>\n",
       "      <th>Weather Control</th>\n",
       "      <th>Super Strength</th>\n",
       "      <th>Accelerated Healing</th>\n",
       "      <th>Power Suit</th>\n",
       "      <th>Insanity</th>\n",
       "      <th>Dimensional Travel</th>\n",
       "      <th>...</th>\n",
       "      <th>Flight</th>\n",
       "      <th>Power Cosmic</th>\n",
       "      <th>Enhanced Hearing</th>\n",
       "      <th>Vision - Microscopic</th>\n",
       "      <th>Molecular Combustion</th>\n",
       "      <th>Vitakinesis</th>\n",
       "      <th>Astral Travel</th>\n",
       "      <th>Photographic Reflexes</th>\n",
       "      <th>Nova Force</th>\n",
       "      <th>Dexterity</th>\n",
       "    </tr>\n",
       "  </thead>\n",
       "  <tbody>\n",
       "    <tr>\n",
       "      <th>0</th>\n",
       "      <td>3-D Man</td>\n",
       "      <td>[\"Agility\", \"Super Strength\", \"Stamina\", \"Supe...</td>\n",
       "      <td>False</td>\n",
       "      <td>False</td>\n",
       "      <td>False</td>\n",
       "      <td>True</td>\n",
       "      <td>False</td>\n",
       "      <td>False</td>\n",
       "      <td>False</td>\n",
       "      <td>False</td>\n",
       "      <td>...</td>\n",
       "      <td>False</td>\n",
       "      <td>False</td>\n",
       "      <td>False</td>\n",
       "      <td>False</td>\n",
       "      <td>False</td>\n",
       "      <td>False</td>\n",
       "      <td>False</td>\n",
       "      <td>False</td>\n",
       "      <td>False</td>\n",
       "      <td>False</td>\n",
       "    </tr>\n",
       "    <tr>\n",
       "      <th>1</th>\n",
       "      <td>A-Bomb</td>\n",
       "      <td>[\"Accelerated Healing\", \"Durability\", \"Longevi...</td>\n",
       "      <td>False</td>\n",
       "      <td>False</td>\n",
       "      <td>False</td>\n",
       "      <td>True</td>\n",
       "      <td>True</td>\n",
       "      <td>False</td>\n",
       "      <td>False</td>\n",
       "      <td>False</td>\n",
       "      <td>...</td>\n",
       "      <td>False</td>\n",
       "      <td>False</td>\n",
       "      <td>False</td>\n",
       "      <td>False</td>\n",
       "      <td>False</td>\n",
       "      <td>False</td>\n",
       "      <td>False</td>\n",
       "      <td>False</td>\n",
       "      <td>False</td>\n",
       "      <td>False</td>\n",
       "    </tr>\n",
       "    <tr>\n",
       "      <th>2</th>\n",
       "      <td>Abe Sapien</td>\n",
       "      <td>[\"Agility\", \"Accelerated Healing\", \"Cold Resis...</td>\n",
       "      <td>False</td>\n",
       "      <td>False</td>\n",
       "      <td>False</td>\n",
       "      <td>True</td>\n",
       "      <td>True</td>\n",
       "      <td>False</td>\n",
       "      <td>False</td>\n",
       "      <td>False</td>\n",
       "      <td>...</td>\n",
       "      <td>False</td>\n",
       "      <td>False</td>\n",
       "      <td>False</td>\n",
       "      <td>False</td>\n",
       "      <td>False</td>\n",
       "      <td>False</td>\n",
       "      <td>False</td>\n",
       "      <td>False</td>\n",
       "      <td>False</td>\n",
       "      <td>False</td>\n",
       "    </tr>\n",
       "    <tr>\n",
       "      <th>3</th>\n",
       "      <td>Abin Sur</td>\n",
       "      <td>[\"Lantern Power Ring\"]</td>\n",
       "      <td>False</td>\n",
       "      <td>False</td>\n",
       "      <td>False</td>\n",
       "      <td>False</td>\n",
       "      <td>False</td>\n",
       "      <td>False</td>\n",
       "      <td>False</td>\n",
       "      <td>False</td>\n",
       "      <td>...</td>\n",
       "      <td>False</td>\n",
       "      <td>False</td>\n",
       "      <td>False</td>\n",
       "      <td>False</td>\n",
       "      <td>False</td>\n",
       "      <td>False</td>\n",
       "      <td>False</td>\n",
       "      <td>False</td>\n",
       "      <td>False</td>\n",
       "      <td>False</td>\n",
       "    </tr>\n",
       "    <tr>\n",
       "      <th>4</th>\n",
       "      <td>Abomination</td>\n",
       "      <td>[\"Accelerated Healing\", \"Intelligence\", \"Super...</td>\n",
       "      <td>False</td>\n",
       "      <td>False</td>\n",
       "      <td>False</td>\n",
       "      <td>True</td>\n",
       "      <td>True</td>\n",
       "      <td>False</td>\n",
       "      <td>False</td>\n",
       "      <td>False</td>\n",
       "      <td>...</td>\n",
       "      <td>False</td>\n",
       "      <td>False</td>\n",
       "      <td>False</td>\n",
       "      <td>False</td>\n",
       "      <td>False</td>\n",
       "      <td>False</td>\n",
       "      <td>False</td>\n",
       "      <td>False</td>\n",
       "      <td>False</td>\n",
       "      <td>False</td>\n",
       "    </tr>\n",
       "  </tbody>\n",
       "</table>\n",
       "<p>5 rows × 169 columns</p>\n",
       "</div>"
      ],
      "text/plain": [
       "    hero_names                                             Powers  \\\n",
       "0      3-D Man  [\"Agility\", \"Super Strength\", \"Stamina\", \"Supe...   \n",
       "1       A-Bomb  [\"Accelerated Healing\", \"Durability\", \"Longevi...   \n",
       "2   Abe Sapien  [\"Agility\", \"Accelerated Healing\", \"Cold Resis...   \n",
       "3     Abin Sur                             [\"Lantern Power Ring\"]   \n",
       "4  Abomination  [\"Accelerated Healing\", \"Intelligence\", \"Super...   \n",
       "\n",
       "   Power Absorption  Cloaking  Weather Control  Super Strength  \\\n",
       "0             False     False            False            True   \n",
       "1             False     False            False            True   \n",
       "2             False     False            False            True   \n",
       "3             False     False            False           False   \n",
       "4             False     False            False            True   \n",
       "\n",
       "   Accelerated Healing  Power Suit  Insanity  Dimensional Travel  ...  Flight  \\\n",
       "0                False       False     False               False  ...   False   \n",
       "1                 True       False     False               False  ...   False   \n",
       "2                 True       False     False               False  ...   False   \n",
       "3                False       False     False               False  ...   False   \n",
       "4                 True       False     False               False  ...   False   \n",
       "\n",
       "   Power Cosmic  Enhanced Hearing  Vision - Microscopic  Molecular Combustion  \\\n",
       "0         False             False                 False                 False   \n",
       "1         False             False                 False                 False   \n",
       "2         False             False                 False                 False   \n",
       "3         False             False                 False                 False   \n",
       "4         False             False                 False                 False   \n",
       "\n",
       "   Vitakinesis  Astral Travel  Photographic Reflexes  Nova Force  Dexterity  \n",
       "0        False          False                  False       False      False  \n",
       "1        False          False                  False       False      False  \n",
       "2        False          False                  False       False      False  \n",
       "3        False          False                  False       False      False  \n",
       "4        False          False                  False       False      False  \n",
       "\n",
       "[5 rows x 169 columns]"
      ]
     },
     "execution_count": 69,
     "metadata": {},
     "output_type": "execute_result"
    }
   ],
   "source": [
    "# Using a for loop with .str.contains to create new columns\n",
    "for col in cols_to_make:\n",
    "    superhero_powers[col] = superhero_powers['Powers'].str.contains(col)\n",
    "superhero_powers.head()"
   ]
  },
  {
   "cell_type": "code",
   "execution_count": null,
   "id": "ee66a100",
   "metadata": {},
   "outputs": [],
   "source": []
  }
 ],
 "metadata": {
  "kernelspec": {
   "display_name": "Python (dojo-env)",
   "language": "python",
   "name": "dojo-env"
  },
  "language_info": {
   "codemirror_mode": {
    "name": "ipython",
    "version": 3
   },
   "file_extension": ".py",
   "mimetype": "text/x-python",
   "name": "python",
   "nbconvert_exporter": "python",
   "pygments_lexer": "ipython3",
   "version": "3.9.15"
  },
  "toc": {
   "base_numbering": 1,
   "nav_menu": {},
   "number_sections": true,
   "sideBar": true,
   "skip_h1_title": false,
   "title_cell": "Table of Contents",
   "title_sidebar": "Contents",
   "toc_cell": false,
   "toc_position": {},
   "toc_section_display": true,
   "toc_window_display": false
  }
 },
 "nbformat": 4,
 "nbformat_minor": 5
}
